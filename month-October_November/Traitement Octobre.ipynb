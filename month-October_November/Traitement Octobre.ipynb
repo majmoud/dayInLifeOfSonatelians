{
 "cells": [
  {
   "cell_type": "code",
   "execution_count": 1,
   "metadata": {},
   "outputs": [],
   "source": [
    "import pandas as pd\n",
    "import csv\n",
    "import random"
   ]
  },
  {
   "cell_type": "code",
   "execution_count": 2,
   "metadata": {},
   "outputs": [],
   "source": [
    "# Fonction permettant de supprimer les colonnes Pointage et Dépointage\n",
    "def delColumns(data):\n",
    "    data.drop([\"Pointage\", \"Dépointage\"], 1, inplace=True)\n",
    "    \n",
    "# Fonction permettant de supprimer une ligne ayant une valeur manquante\n",
    "def delRows(data):\n",
    "    data.dropna()\n",
    "    \n",
    "# Fonction permettant de lister le nombre de valeurs manquantes pour chaque colonne\n",
    "def numberNaN(data):\n",
    "    columns = data.columns\n",
    "    for i in columns:\n",
    "        print(\"{} :{}\".format(i, data[\"{}\".format(i)].isnull().values.sum()))"
   ]
  },
  {
   "cell_type": "code",
   "execution_count": 3,
   "metadata": {},
   "outputs": [],
   "source": [
    "# Chargement des fichiers Octobre et Novembre\n",
    "octoberFile = pd.read_csv(\"pointage_octobre.csv\", sep=\",\")\n",
    "novemberFile = pd.read_csv(\"pointage_novembre.csv\", sep=\",\")"
   ]
  },
  {
   "cell_type": "code",
   "execution_count": 4,
   "metadata": {},
   "outputs": [],
   "source": [
    "# Suppression des colonnes\n",
    "delColumns(octoberFile)\n",
    "delColumns(novemberFile)"
   ]
  },
  {
   "cell_type": "code",
   "execution_count": 5,
   "metadata": {},
   "outputs": [],
   "source": [
    "# Suppression des lignes manquantes\n",
    "delRows(octoberFile)\n",
    "delRows(novemberFile)"
   ]
  },
  {
   "cell_type": "code",
   "execution_count": 6,
   "metadata": {},
   "outputs": [
    {
     "name": "stdout",
     "output_type": "stream",
     "text": [
      "ID :0\n",
      "Date :0\n",
      "POINTEUSE :0\n"
     ]
    }
   ],
   "source": [
    "numberNaN(octoberFile)"
   ]
  },
  {
   "cell_type": "code",
   "execution_count": 7,
   "metadata": {},
   "outputs": [
    {
     "name": "stdout",
     "output_type": "stream",
     "text": [
      "ID :0\n",
      "Date :0\n",
      "POINTEUSE :0\n"
     ]
    }
   ],
   "source": [
    "numberNaN(novemberFile)"
   ]
  },
  {
   "cell_type": "code",
   "execution_count": 9,
   "metadata": {},
   "outputs": [],
   "source": [
    "# Fonction permettant de faire un random sur les pointeuses\n",
    "import random\n",
    "import copy\n",
    "\n",
    "def RandomPointeuses(data):\n",
    "    idUsers = list(set(data.ID))\n",
    "    pointeuses = list(set(data.POINTEUSE))\n",
    "    \n",
    "    for i in idUsers:\n",
    "        newPointeuses = pointeuses.copy()\n",
    "        dataUser = data[data[\"ID\"] == i]\n",
    "        pointeusesUser = list(set(dataUser[\"POINTEUSE\"]))\n",
    "        \n",
    "        for j in pointeusesUser:\n",
    "            newPointeuses.remove(j)\n",
    "        \n",
    "        #Faire un random sur les autres pointeuses différentes des pointeuses du user\n",
    "        indexUser = dataUser.index\n",
    "        nbRandom = int(len(dataUser) / 4)\n",
    "        \n",
    "        for m in range(0, nbRandom + 1):\n",
    "            data[\"POINTEUSE\"][indexUser[random.randrange(0, len(indexUser))]] = newPointeuses[random.randrange(0, len(newPointeuses))]"
   ]
  },
  {
   "cell_type": "code",
   "execution_count": 11,
   "metadata": {},
   "outputs": [],
   "source": [
    "# Changement des indexes de manière croissante\n",
    "octoberFile.index = range(0, len(octoberFile))\n",
    "novemberFile.index = range(0, len(novemberFile))\n",
    "\n",
    "\n",
    "#Suppression de certains sites\n",
    "deletePointeuses = [\"KAOLACK AC-1\", \"MBOUR-1\", \"SAINT LOUIS AC-1\", \"THIES AC-1\", \n",
    "                    \"TOUBA MBACKE-1\", \"ZIGUINCHOR TECH-1\", \"Ziguinchor Commercial-1\"]\n",
    "indiceLigneOctobre = []\n",
    "indiceLigneNovembre = []\n",
    "\n",
    "for i in range(0, len(octoberFile)):\n",
    "    if octoberFile[\"POINTEUSE\"][i] in deletePointeuses:\n",
    "        indiceLigneOctobre.append(i)\n",
    "octoberFile.drop(indiceLigneOctobre, inplace=True)\n",
    "\n",
    "for i in range(0, len(novemberFile)):\n",
    "    if novemberFile[\"POINTEUSE\"][i] in deletePointeuses:\n",
    "        indiceLigneNovembre.append(i)\n",
    "novemberFile.drop(indiceLigneNovembre, inplace=True)\n",
    "\n",
    "# Liste des pointeuses\n",
    "# list(set(fileOctNov.POINTEUSE))"
   ]
  },
  {
   "cell_type": "code",
   "execution_count": 28,
   "metadata": {},
   "outputs": [],
   "source": [
    "# Remplacer chaque pointeuse par un index\n",
    "def replacePointeuseByIndex(data, file):\n",
    "    sites = list(set(data[\"POINTEUSE\"]))\n",
    "    representationSite = []\n",
    "    for i in range(0, len(sites)):\n",
    "        representationSite.append({\"index\" : \"{}\".format(i), \"short\" : \"{}\".format(sites[i]), \"desc\" : \"{}\".format(sites[i])})\n",
    "    representationSite.append({\"index\" : \"{}\".format(len(sites)), \"short\": \"Other\", \"desc\": \"Other\"})\n",
    "    \n",
    "    # Ecriture dans un fichier\n",
    "    with open(file + \".txt\", \"w\") as f:\n",
    "        f.write(str(representationSite))\n",
    "    #Remplacement au niveau du dataset\n",
    "    for m in sites:\n",
    "        for n in representationSite:\n",
    "            if(m in list(n.values())):\n",
    "                data[\"POINTEUSE\"][data[\"POINTEUSE\"] == m] = list(n.values())[0]"
   ]
  },
  {
   "cell_type": "code",
   "execution_count": 27,
   "metadata": {},
   "outputs": [],
   "source": [
    "# Aggrégation des sites\n",
    "def aggregationSites(data):\n",
    "    data[\"POINTEUSE\"][(data[\"POINTEUSE\"] == 'SIEGE OFMS-1') | (data[\"POINTEUSE\"] == 'SIEGE RDC A-1') | \\\n",
    "         (data[\"POINTEUSE\"] == 'SIEGE RDC INFIRMERIE-1') | (data[\"POINTEUSE\"] == 'SIEGE 5E B-1') | \\\n",
    "         (data[\"POINTEUSE\"] == 'SIEGE SS1 B-1') | (data[\"POINTEUSE\"] == 'SIEGE SS2 A-1') | \\\n",
    "         (data[\"POINTEUSE\"] == 'SIEGE SS1 A-1') | (data[\"POINTEUSE\"] == 'SIEGE 7E B-1') | \\\n",
    "         (data[\"POINTEUSE\"] == 'SIEGE 3E B-1') | (data[\"POINTEUSE\"] == 'SIEGE RDC B-1') | \\\n",
    "         (data[\"POINTEUSE\"] == 'SIEGE SBS-1') | (data[\"POINTEUSE\"] == 'SIEGE SS2 B-1') | \\\n",
    "         (data[\"POINTEUSE\"] == 'SIEGE 2E B-1') | (data[\"POINTEUSE\"] == 'SIEGE 4E B-1')] = 'SIEGE'\n",
    "    data[\"POINTEUSE\"][(data[\"POINTEUSE\"] == 'SACRE COEUR LIB 5-1')] = 'SACRE COEUR'\n",
    "    data[\"POINTEUSE\"][(data[\"POINTEUSE\"] == 'SABLUX RDC-1')] = 'SABLUX RDC'\n",
    "    data[\"POINTEUSE\"][(data[\"POINTEUSE\"] == 'RUFISQUE AC-1')] = 'RUFISQUE'\n",
    "    data[\"POINTEUSE\"][(data[\"POINTEUSE\"] == 'PATTE DOIE-1')] = 'PATTE DOIE'\n",
    "    data[\"POINTEUSE\"][(data[\"POINTEUSE\"] == 'CHEIKH ANTA DIOP-1')] = 'CHEIKH ANTA DIOP'\n",
    "    data[\"POINTEUSE\"][(data[\"POINTEUSE\"] == 'GUEDIAWAYE-1')] = 'GUEDIAWAYE'\n",
    "    data[\"POINTEUSE\"][(data[\"POINTEUSE\"] == 'SALLE SPORT-1')] = 'SALLE SPORT'\n",
    "    data[\"POINTEUSE\"][(data[\"POINTEUSE\"] == 'MEDINA - 1-1')] = 'MEDINA'\n",
    "    data[\"POINTEUSE\"][(data[\"POINTEUSE\"] == 'PARCELLES ASSAINIES-1')] = 'PARCELLES ASSAINIES'\n",
    "    data[\"POINTEUSE\"][(data[\"POINTEUSE\"] == 'ALMADIES-1')] = 'ALMADIES'\n",
    "    data[\"POINTEUSE\"][(data[\"POINTEUSE\"] == 'NSIA 2eme ETAGE-1')] = 'NSIA 2eme ETAGE'\n",
    "    data[\"POINTEUSE\"][(data[\"POINTEUSE\"] == 'JET DEAU-1')] = 'JET DEAU'\n",
    "    data[\"POINTEUSE\"][(data[\"POINTEUSE\"] == 'THIAROYE-1')] = 'THIAROYE'\n",
    "    data[\"POINTEUSE\"][(data[\"POINTEUSE\"] == 'REPUBLIQUE-1')] = 'REPUBLIQUE'\n",
    "    data[\"POINTEUSE\"][(data[\"POINTEUSE\"] == 'POTOU-1')] = 'POTOU'\n",
    "    data[\"POINTEUSE\"][(data[\"POINTEUSE\"] == 'WEST-TELECOM-1')] = 'WEST-TELECOM'\n",
    "    data[\"POINTEUSE\"][(data[\"POINTEUSE\"] == 'POTOU-IPM-1')] = 'POTOU-IPM'\n",
    "    data[\"POINTEUSE\"][(data[\"POINTEUSE\"] == 'ARCADES-1')] = 'ARCADES'\n",
    "    data[\"POINTEUSE\"][(data[\"POINTEUSE\"] == 'Poste de Garde-1')] = 'Poste de Garde'\n",
    "    data[\"POINTEUSE\"][(data[\"POINTEUSE\"] == 'TECHNOPOLE - RGT-1')] = 'TECHNOPOLE - RGT'"
   ]
  },
  {
   "cell_type": "code",
   "execution_count": 32,
   "metadata": {},
   "outputs": [],
   "source": [
    "# Création du fichier TSV\n",
    "def creationFichierTSV(file):\n",
    "    with open(file + \".tsv\", 'wt') as out_file:\n",
    "            tsv_writer = csv.writer(out_file, delimiter='\\t')\n",
    "            tsv_writer.writerow(['day'])"
   ]
  },
  {
   "cell_type": "code",
   "execution_count": 36,
   "metadata": {},
   "outputs": [],
   "source": [
    "def ecritureFichierTSV(data, file):\n",
    "    for j in list(set(data[\"ID\"])):\n",
    "        user = data[data[\"ID\"] == j]\n",
    "        user.index = range(0, len(user))\n",
    "        datesUser = list(set(user.Date))\n",
    "        ligne = \"\"\n",
    "        positionOther = len(list(set(data.POINTEUSE)))\n",
    "        for i in range(0, len(dates)):\n",
    "            try:\n",
    "                if (dates[i] in datesUser):\n",
    "                    ligne = ligne + \"{},7,\".format(str(user[\"POINTEUSE\"][i])) # 7 secondes\n",
    "                else:\n",
    "                    ligne = ligne + \"{},7,\".format(str(positionOther)) # 7 secondes\n",
    "            except:\n",
    "                ligne = ligne + \"{},7,\".format(str(positionOther)) # 7 secondes\n",
    "        #         continue\n",
    "        ligne = ligne[0:len(ligne)-1]  # Permet de supprimer la dernière virgule\n",
    "        # Écrire la ligne au niveau du fichier\n",
    "        with open(file + \".tsv\", 'a') as out_file:\n",
    "            tsv_writer = csv.writer(out_file, delimiter='\\t')\n",
    "            tsv_writer.writerow([ligne])"
   ]
  },
  {
   "cell_type": "markdown",
   "metadata": {},
   "source": [
    "# -------------------------Traitement fichier Octobre----------------------------------------"
   ]
  },
  {
   "cell_type": "code",
   "execution_count": 8,
   "metadata": {},
   "outputs": [],
   "source": [
    "# Récupération des informations des users de la base octobre\n",
    "idUsersOctobre = list(set(octoberFile.ID))\n",
    "listePointeusesOctobre = list(set(octoberFile.POINTEUSE))"
   ]
  },
  {
   "cell_type": "code",
   "execution_count": 12,
   "metadata": {},
   "outputs": [
    {
     "name": "stderr",
     "output_type": "stream",
     "text": [
      "/home/diop/.local/lib/python3.7/site-packages/ipykernel_launcher.py:22: SettingWithCopyWarning: \n",
      "A value is trying to be set on a copy of a slice from a DataFrame\n",
      "\n",
      "See the caveats in the documentation: http://pandas.pydata.org/pandas-docs/stable/user_guide/indexing.html#returning-a-view-versus-a-copy\n"
     ]
    }
   ],
   "source": [
    "RandomPointeuses(octoberFile)"
   ]
  },
  {
   "cell_type": "code",
   "execution_count": 17,
   "metadata": {},
   "outputs": [
    {
     "name": "stderr",
     "output_type": "stream",
     "text": [
      "/home/diop/.local/lib/python3.7/site-packages/ipykernel_launcher.py:9: SettingWithCopyWarning: \n",
      "A value is trying to be set on a copy of a slice from a DataFrame\n",
      "\n",
      "See the caveats in the documentation: http://pandas.pydata.org/pandas-docs/stable/user_guide/indexing.html#returning-a-view-versus-a-copy\n",
      "  if __name__ == '__main__':\n",
      "/home/diop/.local/lib/python3.7/site-packages/ipykernel_launcher.py:10: SettingWithCopyWarning: \n",
      "A value is trying to be set on a copy of a slice from a DataFrame\n",
      "\n",
      "See the caveats in the documentation: http://pandas.pydata.org/pandas-docs/stable/user_guide/indexing.html#returning-a-view-versus-a-copy\n",
      "  # Remove the CWD from sys.path while we load stuff.\n",
      "/home/diop/.local/lib/python3.7/site-packages/ipykernel_launcher.py:11: SettingWithCopyWarning: \n",
      "A value is trying to be set on a copy of a slice from a DataFrame\n",
      "\n",
      "See the caveats in the documentation: http://pandas.pydata.org/pandas-docs/stable/user_guide/indexing.html#returning-a-view-versus-a-copy\n",
      "  # This is added back by InteractiveShellApp.init_path()\n",
      "/home/diop/.local/lib/python3.7/site-packages/ipykernel_launcher.py:12: SettingWithCopyWarning: \n",
      "A value is trying to be set on a copy of a slice from a DataFrame\n",
      "\n",
      "See the caveats in the documentation: http://pandas.pydata.org/pandas-docs/stable/user_guide/indexing.html#returning-a-view-versus-a-copy\n",
      "  if sys.path[0] == '':\n",
      "/home/diop/.local/lib/python3.7/site-packages/ipykernel_launcher.py:13: SettingWithCopyWarning: \n",
      "A value is trying to be set on a copy of a slice from a DataFrame\n",
      "\n",
      "See the caveats in the documentation: http://pandas.pydata.org/pandas-docs/stable/user_guide/indexing.html#returning-a-view-versus-a-copy\n",
      "  del sys.path[0]\n",
      "/home/diop/.local/lib/python3.7/site-packages/ipykernel_launcher.py:14: SettingWithCopyWarning: \n",
      "A value is trying to be set on a copy of a slice from a DataFrame\n",
      "\n",
      "See the caveats in the documentation: http://pandas.pydata.org/pandas-docs/stable/user_guide/indexing.html#returning-a-view-versus-a-copy\n",
      "  \n",
      "/home/diop/.local/lib/python3.7/site-packages/ipykernel_launcher.py:15: SettingWithCopyWarning: \n",
      "A value is trying to be set on a copy of a slice from a DataFrame\n",
      "\n",
      "See the caveats in the documentation: http://pandas.pydata.org/pandas-docs/stable/user_guide/indexing.html#returning-a-view-versus-a-copy\n",
      "  from ipykernel import kernelapp as app\n",
      "/home/diop/.local/lib/python3.7/site-packages/ipykernel_launcher.py:16: SettingWithCopyWarning: \n",
      "A value is trying to be set on a copy of a slice from a DataFrame\n",
      "\n",
      "See the caveats in the documentation: http://pandas.pydata.org/pandas-docs/stable/user_guide/indexing.html#returning-a-view-versus-a-copy\n",
      "  app.launch_new_instance()\n",
      "/home/diop/.local/lib/python3.7/site-packages/ipykernel_launcher.py:17: SettingWithCopyWarning: \n",
      "A value is trying to be set on a copy of a slice from a DataFrame\n",
      "\n",
      "See the caveats in the documentation: http://pandas.pydata.org/pandas-docs/stable/user_guide/indexing.html#returning-a-view-versus-a-copy\n",
      "/home/diop/.local/lib/python3.7/site-packages/ipykernel_launcher.py:18: SettingWithCopyWarning: \n",
      "A value is trying to be set on a copy of a slice from a DataFrame\n",
      "\n",
      "See the caveats in the documentation: http://pandas.pydata.org/pandas-docs/stable/user_guide/indexing.html#returning-a-view-versus-a-copy\n",
      "/home/diop/.local/lib/python3.7/site-packages/ipykernel_launcher.py:19: SettingWithCopyWarning: \n",
      "A value is trying to be set on a copy of a slice from a DataFrame\n",
      "\n",
      "See the caveats in the documentation: http://pandas.pydata.org/pandas-docs/stable/user_guide/indexing.html#returning-a-view-versus-a-copy\n",
      "/home/diop/.local/lib/python3.7/site-packages/ipykernel_launcher.py:20: SettingWithCopyWarning: \n",
      "A value is trying to be set on a copy of a slice from a DataFrame\n",
      "\n",
      "See the caveats in the documentation: http://pandas.pydata.org/pandas-docs/stable/user_guide/indexing.html#returning-a-view-versus-a-copy\n",
      "/home/diop/.local/lib/python3.7/site-packages/ipykernel_launcher.py:21: SettingWithCopyWarning: \n",
      "A value is trying to be set on a copy of a slice from a DataFrame\n",
      "\n",
      "See the caveats in the documentation: http://pandas.pydata.org/pandas-docs/stable/user_guide/indexing.html#returning-a-view-versus-a-copy\n",
      "/home/diop/.local/lib/python3.7/site-packages/ipykernel_launcher.py:22: SettingWithCopyWarning: \n",
      "A value is trying to be set on a copy of a slice from a DataFrame\n",
      "\n",
      "See the caveats in the documentation: http://pandas.pydata.org/pandas-docs/stable/user_guide/indexing.html#returning-a-view-versus-a-copy\n",
      "/home/diop/.local/lib/python3.7/site-packages/ipykernel_launcher.py:23: SettingWithCopyWarning: \n",
      "A value is trying to be set on a copy of a slice from a DataFrame\n",
      "\n",
      "See the caveats in the documentation: http://pandas.pydata.org/pandas-docs/stable/user_guide/indexing.html#returning-a-view-versus-a-copy\n",
      "/home/diop/.local/lib/python3.7/site-packages/ipykernel_launcher.py:24: SettingWithCopyWarning: \n",
      "A value is trying to be set on a copy of a slice from a DataFrame\n",
      "\n",
      "See the caveats in the documentation: http://pandas.pydata.org/pandas-docs/stable/user_guide/indexing.html#returning-a-view-versus-a-copy\n",
      "/home/diop/.local/lib/python3.7/site-packages/ipykernel_launcher.py:25: SettingWithCopyWarning: \n",
      "A value is trying to be set on a copy of a slice from a DataFrame\n",
      "\n",
      "See the caveats in the documentation: http://pandas.pydata.org/pandas-docs/stable/user_guide/indexing.html#returning-a-view-versus-a-copy\n",
      "/home/diop/.local/lib/python3.7/site-packages/ipykernel_launcher.py:26: SettingWithCopyWarning: \n",
      "A value is trying to be set on a copy of a slice from a DataFrame\n",
      "\n",
      "See the caveats in the documentation: http://pandas.pydata.org/pandas-docs/stable/user_guide/indexing.html#returning-a-view-versus-a-copy\n",
      "/home/diop/.local/lib/python3.7/site-packages/ipykernel_launcher.py:27: SettingWithCopyWarning: \n",
      "A value is trying to be set on a copy of a slice from a DataFrame\n",
      "\n",
      "See the caveats in the documentation: http://pandas.pydata.org/pandas-docs/stable/user_guide/indexing.html#returning-a-view-versus-a-copy\n",
      "/home/diop/.local/lib/python3.7/site-packages/ipykernel_launcher.py:28: SettingWithCopyWarning: \n",
      "A value is trying to be set on a copy of a slice from a DataFrame\n",
      "\n",
      "See the caveats in the documentation: http://pandas.pydata.org/pandas-docs/stable/user_guide/indexing.html#returning-a-view-versus-a-copy\n",
      "/home/diop/.local/lib/python3.7/site-packages/ipykernel_launcher.py:29: SettingWithCopyWarning: \n",
      "A value is trying to be set on a copy of a slice from a DataFrame\n",
      "\n",
      "See the caveats in the documentation: http://pandas.pydata.org/pandas-docs/stable/user_guide/indexing.html#returning-a-view-versus-a-copy\n"
     ]
    },
    {
     "data": {
      "text/html": [
       "<div>\n",
       "<style scoped>\n",
       "    .dataframe tbody tr th:only-of-type {\n",
       "        vertical-align: middle;\n",
       "    }\n",
       "\n",
       "    .dataframe tbody tr th {\n",
       "        vertical-align: top;\n",
       "    }\n",
       "\n",
       "    .dataframe thead th {\n",
       "        text-align: right;\n",
       "    }\n",
       "</style>\n",
       "<table border=\"1\" class=\"dataframe\">\n",
       "  <thead>\n",
       "    <tr style=\"text-align: right;\">\n",
       "      <th></th>\n",
       "      <th>ID</th>\n",
       "      <th>Date</th>\n",
       "      <th>POINTEUSE</th>\n",
       "    </tr>\n",
       "  </thead>\n",
       "  <tbody>\n",
       "    <tr>\n",
       "      <th>0</th>\n",
       "      <td>1</td>\n",
       "      <td>01/10/2019</td>\n",
       "      <td>REPUBLIQUE</td>\n",
       "    </tr>\n",
       "    <tr>\n",
       "      <th>1</th>\n",
       "      <td>1</td>\n",
       "      <td>02/10/2019</td>\n",
       "      <td>SALLE SPORT</td>\n",
       "    </tr>\n",
       "    <tr>\n",
       "      <th>2</th>\n",
       "      <td>1</td>\n",
       "      <td>03/10/2019</td>\n",
       "      <td>REPUBLIQUE</td>\n",
       "    </tr>\n",
       "    <tr>\n",
       "      <th>3</th>\n",
       "      <td>1</td>\n",
       "      <td>04/10/2019</td>\n",
       "      <td>REPUBLIQUE</td>\n",
       "    </tr>\n",
       "    <tr>\n",
       "      <th>4</th>\n",
       "      <td>1</td>\n",
       "      <td>07/10/2019</td>\n",
       "      <td>SIEGE</td>\n",
       "    </tr>\n",
       "    <tr>\n",
       "      <th>...</th>\n",
       "      <td>...</td>\n",
       "      <td>...</td>\n",
       "      <td>...</td>\n",
       "    </tr>\n",
       "    <tr>\n",
       "      <th>24566</th>\n",
       "      <td>1426</td>\n",
       "      <td>21/10/2019</td>\n",
       "      <td>SIEGE</td>\n",
       "    </tr>\n",
       "    <tr>\n",
       "      <th>24567</th>\n",
       "      <td>1426</td>\n",
       "      <td>22/10/2019</td>\n",
       "      <td>SIEGE</td>\n",
       "    </tr>\n",
       "    <tr>\n",
       "      <th>24568</th>\n",
       "      <td>1426</td>\n",
       "      <td>28/10/2019</td>\n",
       "      <td>SABLUX RDC</td>\n",
       "    </tr>\n",
       "    <tr>\n",
       "      <th>24569</th>\n",
       "      <td>1426</td>\n",
       "      <td>29/10/2019</td>\n",
       "      <td>SIEGE</td>\n",
       "    </tr>\n",
       "    <tr>\n",
       "      <th>24570</th>\n",
       "      <td>1426</td>\n",
       "      <td>31/10/2019</td>\n",
       "      <td>SIEGE</td>\n",
       "    </tr>\n",
       "  </tbody>\n",
       "</table>\n",
       "<p>23951 rows × 3 columns</p>\n",
       "</div>"
      ],
      "text/plain": [
       "         ID        Date    POINTEUSE\n",
       "0         1  01/10/2019   REPUBLIQUE\n",
       "1         1  02/10/2019  SALLE SPORT\n",
       "2         1  03/10/2019   REPUBLIQUE\n",
       "3         1  04/10/2019   REPUBLIQUE\n",
       "4         1  07/10/2019        SIEGE\n",
       "...     ...         ...          ...\n",
       "24566  1426  21/10/2019        SIEGE\n",
       "24567  1426  22/10/2019        SIEGE\n",
       "24568  1426  28/10/2019   SABLUX RDC\n",
       "24569  1426  29/10/2019        SIEGE\n",
       "24570  1426  31/10/2019        SIEGE\n",
       "\n",
       "[23951 rows x 3 columns]"
      ]
     },
     "execution_count": 17,
     "metadata": {},
     "output_type": "execute_result"
    }
   ],
   "source": [
    "aggregationSites(octoberFile)\n",
    "octoberFile"
   ]
  },
  {
   "cell_type": "code",
   "execution_count": 18,
   "metadata": {},
   "outputs": [
    {
     "data": {
      "text/plain": [
       "['ARCADES',\n",
       " 'CHEIKH ANTA DIOP',\n",
       " 'SIEGE',\n",
       " 'TECHNOPOLE - RGT',\n",
       " 'POTOU-IPM',\n",
       " 'ALMADIES',\n",
       " 'PATTE DOIE',\n",
       " 'SACRE COEUR',\n",
       " 'MEDINA',\n",
       " 'Poste de Garde',\n",
       " 'GUEDIAWAYE',\n",
       " 'SABLUX RDC',\n",
       " 'JET DEAU',\n",
       " 'WEST-TELECOM',\n",
       " 'SALLE SPORT',\n",
       " 'REPUBLIQUE',\n",
       " 'PARCELLES ASSAINIES',\n",
       " 'THIAROYE',\n",
       " 'NSIA 2eme ETAGE',\n",
       " 'RUFISQUE',\n",
       " 'POTOU']"
      ]
     },
     "execution_count": 18,
     "metadata": {},
     "output_type": "execute_result"
    }
   ],
   "source": [
    "# Liste des pointeuses\n",
    "list(set(octoberFile.POINTEUSE))"
   ]
  },
  {
   "cell_type": "code",
   "execution_count": 29,
   "metadata": {},
   "outputs": [
    {
     "name": "stderr",
     "output_type": "stream",
     "text": [
      "/home/diop/.local/lib/python3.7/site-packages/ipykernel_launcher.py:16: SettingWithCopyWarning: \n",
      "A value is trying to be set on a copy of a slice from a DataFrame\n",
      "\n",
      "See the caveats in the documentation: http://pandas.pydata.org/pandas-docs/stable/user_guide/indexing.html#returning-a-view-versus-a-copy\n",
      "  app.launch_new_instance()\n"
     ]
    }
   ],
   "source": [
    "replacePointeuseByIndex(octoberFile, \"octoberSites\")"
   ]
  },
  {
   "cell_type": "code",
   "execution_count": 30,
   "metadata": {},
   "outputs": [
    {
     "data": {
      "text/html": [
       "<div>\n",
       "<style scoped>\n",
       "    .dataframe tbody tr th:only-of-type {\n",
       "        vertical-align: middle;\n",
       "    }\n",
       "\n",
       "    .dataframe tbody tr th {\n",
       "        vertical-align: top;\n",
       "    }\n",
       "\n",
       "    .dataframe thead th {\n",
       "        text-align: right;\n",
       "    }\n",
       "</style>\n",
       "<table border=\"1\" class=\"dataframe\">\n",
       "  <thead>\n",
       "    <tr style=\"text-align: right;\">\n",
       "      <th></th>\n",
       "      <th>ID</th>\n",
       "      <th>Date</th>\n",
       "      <th>POINTEUSE</th>\n",
       "    </tr>\n",
       "  </thead>\n",
       "  <tbody>\n",
       "    <tr>\n",
       "      <th>0</th>\n",
       "      <td>1</td>\n",
       "      <td>01/10/2019</td>\n",
       "      <td>15</td>\n",
       "    </tr>\n",
       "    <tr>\n",
       "      <th>1</th>\n",
       "      <td>1</td>\n",
       "      <td>02/10/2019</td>\n",
       "      <td>14</td>\n",
       "    </tr>\n",
       "    <tr>\n",
       "      <th>2</th>\n",
       "      <td>1</td>\n",
       "      <td>03/10/2019</td>\n",
       "      <td>15</td>\n",
       "    </tr>\n",
       "    <tr>\n",
       "      <th>3</th>\n",
       "      <td>1</td>\n",
       "      <td>04/10/2019</td>\n",
       "      <td>15</td>\n",
       "    </tr>\n",
       "    <tr>\n",
       "      <th>4</th>\n",
       "      <td>1</td>\n",
       "      <td>07/10/2019</td>\n",
       "      <td>2</td>\n",
       "    </tr>\n",
       "    <tr>\n",
       "      <th>...</th>\n",
       "      <td>...</td>\n",
       "      <td>...</td>\n",
       "      <td>...</td>\n",
       "    </tr>\n",
       "    <tr>\n",
       "      <th>24566</th>\n",
       "      <td>1426</td>\n",
       "      <td>21/10/2019</td>\n",
       "      <td>2</td>\n",
       "    </tr>\n",
       "    <tr>\n",
       "      <th>24567</th>\n",
       "      <td>1426</td>\n",
       "      <td>22/10/2019</td>\n",
       "      <td>2</td>\n",
       "    </tr>\n",
       "    <tr>\n",
       "      <th>24568</th>\n",
       "      <td>1426</td>\n",
       "      <td>28/10/2019</td>\n",
       "      <td>11</td>\n",
       "    </tr>\n",
       "    <tr>\n",
       "      <th>24569</th>\n",
       "      <td>1426</td>\n",
       "      <td>29/10/2019</td>\n",
       "      <td>2</td>\n",
       "    </tr>\n",
       "    <tr>\n",
       "      <th>24570</th>\n",
       "      <td>1426</td>\n",
       "      <td>31/10/2019</td>\n",
       "      <td>2</td>\n",
       "    </tr>\n",
       "  </tbody>\n",
       "</table>\n",
       "<p>23951 rows × 3 columns</p>\n",
       "</div>"
      ],
      "text/plain": [
       "         ID        Date POINTEUSE\n",
       "0         1  01/10/2019        15\n",
       "1         1  02/10/2019        14\n",
       "2         1  03/10/2019        15\n",
       "3         1  04/10/2019        15\n",
       "4         1  07/10/2019         2\n",
       "...     ...         ...       ...\n",
       "24566  1426  21/10/2019         2\n",
       "24567  1426  22/10/2019         2\n",
       "24568  1426  28/10/2019        11\n",
       "24569  1426  29/10/2019         2\n",
       "24570  1426  31/10/2019         2\n",
       "\n",
       "[23951 rows x 3 columns]"
      ]
     },
     "execution_count": 30,
     "metadata": {},
     "output_type": "execute_result"
    }
   ],
   "source": [
    "octoberFile"
   ]
  },
  {
   "cell_type": "code",
   "execution_count": 39,
   "metadata": {},
   "outputs": [],
   "source": [
    "from datetime import datetime \n",
    "dates = list(set(octoberFile.Date))\n",
    "# Trier les dates par ordre croissant\n",
    "dates = sorted(dates, key=lambda x: datetime.strptime(x, \"%d/%m/%Y\"))\n",
    "\n",
    "# Écriture des dates au niveau du fichier\n",
    "with open(\"octoberDates.txt\", \"w\") as f:\n",
    "    f.write(str(dates))"
   ]
  },
  {
   "cell_type": "code",
   "execution_count": 33,
   "metadata": {},
   "outputs": [],
   "source": [
    "# Création du fichier TSV\n",
    "creationFichierTSV(\"october\")"
   ]
  },
  {
   "cell_type": "code",
   "execution_count": 37,
   "metadata": {},
   "outputs": [],
   "source": [
    "# Écriture au niveau du fichier TSV\n",
    "ecritureFichierTSV(octoberFile, \"october\")"
   ]
  },
  {
   "cell_type": "markdown",
   "metadata": {},
   "source": [
    "# -------------------------Traitement fichier Novembre----------------------------------------"
   ]
  },
  {
   "cell_type": "code",
   "execution_count": 40,
   "metadata": {},
   "outputs": [],
   "source": [
    "# Récupération des informations des users de la base octobre\n",
    "idUsersNovembre = list(set(novemberFile.ID))\n",
    "listePointeusesNovembre = list(set(novemberFile.POINTEUSE))"
   ]
  },
  {
   "cell_type": "code",
   "execution_count": 41,
   "metadata": {},
   "outputs": [
    {
     "name": "stderr",
     "output_type": "stream",
     "text": [
      "/home/diop/.local/lib/python3.7/site-packages/ipykernel_launcher.py:22: SettingWithCopyWarning: \n",
      "A value is trying to be set on a copy of a slice from a DataFrame\n",
      "\n",
      "See the caveats in the documentation: http://pandas.pydata.org/pandas-docs/stable/user_guide/indexing.html#returning-a-view-versus-a-copy\n"
     ]
    }
   ],
   "source": [
    "RandomPointeuses(novemberFile)"
   ]
  },
  {
   "cell_type": "code",
   "execution_count": 43,
   "metadata": {},
   "outputs": [
    {
     "name": "stderr",
     "output_type": "stream",
     "text": [
      "/home/diop/.local/lib/python3.7/site-packages/ipykernel_launcher.py:9: SettingWithCopyWarning: \n",
      "A value is trying to be set on a copy of a slice from a DataFrame\n",
      "\n",
      "See the caveats in the documentation: http://pandas.pydata.org/pandas-docs/stable/user_guide/indexing.html#returning-a-view-versus-a-copy\n",
      "  if __name__ == '__main__':\n",
      "/home/diop/.local/lib/python3.7/site-packages/ipykernel_launcher.py:10: SettingWithCopyWarning: \n",
      "A value is trying to be set on a copy of a slice from a DataFrame\n",
      "\n",
      "See the caveats in the documentation: http://pandas.pydata.org/pandas-docs/stable/user_guide/indexing.html#returning-a-view-versus-a-copy\n",
      "  # Remove the CWD from sys.path while we load stuff.\n",
      "/home/diop/.local/lib/python3.7/site-packages/ipykernel_launcher.py:11: SettingWithCopyWarning: \n",
      "A value is trying to be set on a copy of a slice from a DataFrame\n",
      "\n",
      "See the caveats in the documentation: http://pandas.pydata.org/pandas-docs/stable/user_guide/indexing.html#returning-a-view-versus-a-copy\n",
      "  # This is added back by InteractiveShellApp.init_path()\n",
      "/home/diop/.local/lib/python3.7/site-packages/ipykernel_launcher.py:12: SettingWithCopyWarning: \n",
      "A value is trying to be set on a copy of a slice from a DataFrame\n",
      "\n",
      "See the caveats in the documentation: http://pandas.pydata.org/pandas-docs/stable/user_guide/indexing.html#returning-a-view-versus-a-copy\n",
      "  if sys.path[0] == '':\n",
      "/home/diop/.local/lib/python3.7/site-packages/ipykernel_launcher.py:13: SettingWithCopyWarning: \n",
      "A value is trying to be set on a copy of a slice from a DataFrame\n",
      "\n",
      "See the caveats in the documentation: http://pandas.pydata.org/pandas-docs/stable/user_guide/indexing.html#returning-a-view-versus-a-copy\n",
      "  del sys.path[0]\n",
      "/home/diop/.local/lib/python3.7/site-packages/ipykernel_launcher.py:14: SettingWithCopyWarning: \n",
      "A value is trying to be set on a copy of a slice from a DataFrame\n",
      "\n",
      "See the caveats in the documentation: http://pandas.pydata.org/pandas-docs/stable/user_guide/indexing.html#returning-a-view-versus-a-copy\n",
      "  \n",
      "/home/diop/.local/lib/python3.7/site-packages/ipykernel_launcher.py:15: SettingWithCopyWarning: \n",
      "A value is trying to be set on a copy of a slice from a DataFrame\n",
      "\n",
      "See the caveats in the documentation: http://pandas.pydata.org/pandas-docs/stable/user_guide/indexing.html#returning-a-view-versus-a-copy\n",
      "  from ipykernel import kernelapp as app\n",
      "/home/diop/.local/lib/python3.7/site-packages/ipykernel_launcher.py:16: SettingWithCopyWarning: \n",
      "A value is trying to be set on a copy of a slice from a DataFrame\n",
      "\n",
      "See the caveats in the documentation: http://pandas.pydata.org/pandas-docs/stable/user_guide/indexing.html#returning-a-view-versus-a-copy\n",
      "  app.launch_new_instance()\n",
      "/home/diop/.local/lib/python3.7/site-packages/ipykernel_launcher.py:17: SettingWithCopyWarning: \n",
      "A value is trying to be set on a copy of a slice from a DataFrame\n",
      "\n",
      "See the caveats in the documentation: http://pandas.pydata.org/pandas-docs/stable/user_guide/indexing.html#returning-a-view-versus-a-copy\n",
      "/home/diop/.local/lib/python3.7/site-packages/ipykernel_launcher.py:18: SettingWithCopyWarning: \n",
      "A value is trying to be set on a copy of a slice from a DataFrame\n",
      "\n",
      "See the caveats in the documentation: http://pandas.pydata.org/pandas-docs/stable/user_guide/indexing.html#returning-a-view-versus-a-copy\n",
      "/home/diop/.local/lib/python3.7/site-packages/ipykernel_launcher.py:19: SettingWithCopyWarning: \n",
      "A value is trying to be set on a copy of a slice from a DataFrame\n",
      "\n",
      "See the caveats in the documentation: http://pandas.pydata.org/pandas-docs/stable/user_guide/indexing.html#returning-a-view-versus-a-copy\n",
      "/home/diop/.local/lib/python3.7/site-packages/ipykernel_launcher.py:20: SettingWithCopyWarning: \n",
      "A value is trying to be set on a copy of a slice from a DataFrame\n",
      "\n",
      "See the caveats in the documentation: http://pandas.pydata.org/pandas-docs/stable/user_guide/indexing.html#returning-a-view-versus-a-copy\n",
      "/home/diop/.local/lib/python3.7/site-packages/ipykernel_launcher.py:21: SettingWithCopyWarning: \n",
      "A value is trying to be set on a copy of a slice from a DataFrame\n",
      "\n",
      "See the caveats in the documentation: http://pandas.pydata.org/pandas-docs/stable/user_guide/indexing.html#returning-a-view-versus-a-copy\n",
      "/home/diop/.local/lib/python3.7/site-packages/ipykernel_launcher.py:22: SettingWithCopyWarning: \n",
      "A value is trying to be set on a copy of a slice from a DataFrame\n",
      "\n",
      "See the caveats in the documentation: http://pandas.pydata.org/pandas-docs/stable/user_guide/indexing.html#returning-a-view-versus-a-copy\n",
      "/home/diop/.local/lib/python3.7/site-packages/ipykernel_launcher.py:23: SettingWithCopyWarning: \n",
      "A value is trying to be set on a copy of a slice from a DataFrame\n",
      "\n",
      "See the caveats in the documentation: http://pandas.pydata.org/pandas-docs/stable/user_guide/indexing.html#returning-a-view-versus-a-copy\n",
      "/home/diop/.local/lib/python3.7/site-packages/ipykernel_launcher.py:24: SettingWithCopyWarning: \n",
      "A value is trying to be set on a copy of a slice from a DataFrame\n",
      "\n",
      "See the caveats in the documentation: http://pandas.pydata.org/pandas-docs/stable/user_guide/indexing.html#returning-a-view-versus-a-copy\n",
      "/home/diop/.local/lib/python3.7/site-packages/ipykernel_launcher.py:25: SettingWithCopyWarning: \n",
      "A value is trying to be set on a copy of a slice from a DataFrame\n",
      "\n",
      "See the caveats in the documentation: http://pandas.pydata.org/pandas-docs/stable/user_guide/indexing.html#returning-a-view-versus-a-copy\n",
      "/home/diop/.local/lib/python3.7/site-packages/ipykernel_launcher.py:26: SettingWithCopyWarning: \n",
      "A value is trying to be set on a copy of a slice from a DataFrame\n",
      "\n",
      "See the caveats in the documentation: http://pandas.pydata.org/pandas-docs/stable/user_guide/indexing.html#returning-a-view-versus-a-copy\n",
      "/home/diop/.local/lib/python3.7/site-packages/ipykernel_launcher.py:27: SettingWithCopyWarning: \n",
      "A value is trying to be set on a copy of a slice from a DataFrame\n",
      "\n",
      "See the caveats in the documentation: http://pandas.pydata.org/pandas-docs/stable/user_guide/indexing.html#returning-a-view-versus-a-copy\n",
      "/home/diop/.local/lib/python3.7/site-packages/ipykernel_launcher.py:28: SettingWithCopyWarning: \n",
      "A value is trying to be set on a copy of a slice from a DataFrame\n",
      "\n",
      "See the caveats in the documentation: http://pandas.pydata.org/pandas-docs/stable/user_guide/indexing.html#returning-a-view-versus-a-copy\n",
      "/home/diop/.local/lib/python3.7/site-packages/ipykernel_launcher.py:29: SettingWithCopyWarning: \n",
      "A value is trying to be set on a copy of a slice from a DataFrame\n",
      "\n",
      "See the caveats in the documentation: http://pandas.pydata.org/pandas-docs/stable/user_guide/indexing.html#returning-a-view-versus-a-copy\n"
     ]
    }
   ],
   "source": [
    "aggregationSites(novemberFile)"
   ]
  },
  {
   "cell_type": "code",
   "execution_count": 44,
   "metadata": {},
   "outputs": [
    {
     "name": "stderr",
     "output_type": "stream",
     "text": [
      "/home/diop/.local/lib/python3.7/site-packages/ipykernel_launcher.py:16: SettingWithCopyWarning: \n",
      "A value is trying to be set on a copy of a slice from a DataFrame\n",
      "\n",
      "See the caveats in the documentation: http://pandas.pydata.org/pandas-docs/stable/user_guide/indexing.html#returning-a-view-versus-a-copy\n",
      "  app.launch_new_instance()\n"
     ]
    }
   ],
   "source": [
    "replacePointeuseByIndex(novemberFile, \"novemberSites\")"
   ]
  },
  {
   "cell_type": "code",
   "execution_count": 45,
   "metadata": {},
   "outputs": [
    {
     "data": {
      "text/html": [
       "<div>\n",
       "<style scoped>\n",
       "    .dataframe tbody tr th:only-of-type {\n",
       "        vertical-align: middle;\n",
       "    }\n",
       "\n",
       "    .dataframe tbody tr th {\n",
       "        vertical-align: top;\n",
       "    }\n",
       "\n",
       "    .dataframe thead th {\n",
       "        text-align: right;\n",
       "    }\n",
       "</style>\n",
       "<table border=\"1\" class=\"dataframe\">\n",
       "  <thead>\n",
       "    <tr style=\"text-align: right;\">\n",
       "      <th></th>\n",
       "      <th>ID</th>\n",
       "      <th>Date</th>\n",
       "      <th>POINTEUSE</th>\n",
       "    </tr>\n",
       "  </thead>\n",
       "  <tbody>\n",
       "    <tr>\n",
       "      <th>0</th>\n",
       "      <td>1</td>\n",
       "      <td>08/11/2019</td>\n",
       "      <td>14</td>\n",
       "    </tr>\n",
       "    <tr>\n",
       "      <th>1</th>\n",
       "      <td>1</td>\n",
       "      <td>28/11/2019</td>\n",
       "      <td>14</td>\n",
       "    </tr>\n",
       "    <tr>\n",
       "      <th>2</th>\n",
       "      <td>1</td>\n",
       "      <td>18/11/2019</td>\n",
       "      <td>14</td>\n",
       "    </tr>\n",
       "    <tr>\n",
       "      <th>3</th>\n",
       "      <td>1</td>\n",
       "      <td>26/11/2019</td>\n",
       "      <td>0</td>\n",
       "    </tr>\n",
       "    <tr>\n",
       "      <th>4</th>\n",
       "      <td>1</td>\n",
       "      <td>22/11/2019</td>\n",
       "      <td>14</td>\n",
       "    </tr>\n",
       "    <tr>\n",
       "      <th>...</th>\n",
       "      <td>...</td>\n",
       "      <td>...</td>\n",
       "      <td>...</td>\n",
       "    </tr>\n",
       "    <tr>\n",
       "      <th>22816</th>\n",
       "      <td>1426</td>\n",
       "      <td>13/11/2019</td>\n",
       "      <td>2</td>\n",
       "    </tr>\n",
       "    <tr>\n",
       "      <th>22817</th>\n",
       "      <td>1426</td>\n",
       "      <td>07/11/2019</td>\n",
       "      <td>2</td>\n",
       "    </tr>\n",
       "    <tr>\n",
       "      <th>22818</th>\n",
       "      <td>1426</td>\n",
       "      <td>12/11/2019</td>\n",
       "      <td>2</td>\n",
       "    </tr>\n",
       "    <tr>\n",
       "      <th>22819</th>\n",
       "      <td>1426</td>\n",
       "      <td>18/11/2019</td>\n",
       "      <td>18</td>\n",
       "    </tr>\n",
       "    <tr>\n",
       "      <th>22820</th>\n",
       "      <td>1426</td>\n",
       "      <td>08/11/2019</td>\n",
       "      <td>13</td>\n",
       "    </tr>\n",
       "  </tbody>\n",
       "</table>\n",
       "<p>22241 rows × 3 columns</p>\n",
       "</div>"
      ],
      "text/plain": [
       "         ID        Date POINTEUSE\n",
       "0         1  08/11/2019        14\n",
       "1         1  28/11/2019        14\n",
       "2         1  18/11/2019        14\n",
       "3         1  26/11/2019         0\n",
       "4         1  22/11/2019        14\n",
       "...     ...         ...       ...\n",
       "22816  1426  13/11/2019         2\n",
       "22817  1426  07/11/2019         2\n",
       "22818  1426  12/11/2019         2\n",
       "22819  1426  18/11/2019        18\n",
       "22820  1426  08/11/2019        13\n",
       "\n",
       "[22241 rows x 3 columns]"
      ]
     },
     "execution_count": 45,
     "metadata": {},
     "output_type": "execute_result"
    }
   ],
   "source": [
    "novemberFile"
   ]
  },
  {
   "cell_type": "code",
   "execution_count": 46,
   "metadata": {},
   "outputs": [],
   "source": [
    "from datetime import datetime \n",
    "dates = list(set(novemberFile.Date))\n",
    "# Trier les dates par ordre croissant\n",
    "dates = sorted(dates, key=lambda x: datetime.strptime(x, \"%d/%m/%Y\"))\n",
    "\n",
    "# Écriture des dates au niveau du fichier\n",
    "with open(\"novemberDates.txt\", \"w\") as f:\n",
    "    f.write(str(dates))"
   ]
  },
  {
   "cell_type": "code",
   "execution_count": 47,
   "metadata": {},
   "outputs": [],
   "source": [
    "# Création du fichier TSV\n",
    "creationFichierTSV(\"november\")"
   ]
  },
  {
   "cell_type": "code",
   "execution_count": 48,
   "metadata": {},
   "outputs": [],
   "source": [
    "# Écriture au niveau du fichier TSV\n",
    "ecritureFichierTSV(novemberFile, \"november\")"
   ]
  },
  {
   "cell_type": "code",
   "execution_count": null,
   "metadata": {},
   "outputs": [],
   "source": []
  }
 ],
 "metadata": {
  "kernelspec": {
   "display_name": "Python 3",
   "language": "python",
   "name": "python3"
  },
  "language_info": {
   "codemirror_mode": {
    "name": "ipython",
    "version": 3
   },
   "file_extension": ".py",
   "mimetype": "text/x-python",
   "name": "python",
   "nbconvert_exporter": "python",
   "pygments_lexer": "ipython3",
   "version": "3.7.3"
  }
 },
 "nbformat": 4,
 "nbformat_minor": 2
}
