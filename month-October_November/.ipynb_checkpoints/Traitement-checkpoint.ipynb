{
 "cells": [
  {
   "cell_type": "code",
   "execution_count": 2,
   "metadata": {},
   "outputs": [],
   "source": [
    "import pandas as pd\n",
    "import csv\n",
    "import random"
   ]
  },
  {
   "cell_type": "code",
   "execution_count": 3,
   "metadata": {},
   "outputs": [],
   "source": [
    "# Fonction permettant de supprimer les colonnes Pointage et Dépointage\n",
    "def delColumns(data):\n",
    "    data.drop([\"Pointage\", \"Dépointage\"], 1, inplace=True)"
   ]
  },
  {
   "cell_type": "code",
   "execution_count": 4,
   "metadata": {},
   "outputs": [],
   "source": [
    "# Fonction permettant de supprimer une ligne ayant une valeur manquante\n",
    "def delRows(data):\n",
    "    data.dropna()"
   ]
  },
  {
   "cell_type": "code",
   "execution_count": 5,
   "metadata": {},
   "outputs": [],
   "source": [
    "# Fonction permettant de lister le nombre de valeurs manquantes pour chaque colonne\n",
    "def numberNaN(data):\n",
    "    columns = data.columns\n",
    "    for i in columns:\n",
    "        print(\"{} :{}\".format(i, data[\"{}\".format(i)].isnull().values.sum()))"
   ]
  },
  {
   "cell_type": "code",
   "execution_count": 6,
   "metadata": {},
   "outputs": [],
   "source": [
    "# Chargement des fichiers Octobre et Novembre\n",
    "octoberFile = pd.read_csv(\"pointage_octobre.csv\", sep=\",\")\n",
    "novemberFile = pd.read_csv(\"pointage_novembre.csv\", sep=\",\")"
   ]
  },
  {
   "cell_type": "code",
   "execution_count": 7,
   "metadata": {},
   "outputs": [],
   "source": [
    "# Suppression des colonnes\n",
    "delColumns(octoberFile)\n",
    "delColumns(novemberFile)"
   ]
  },
  {
   "cell_type": "code",
   "execution_count": 8,
   "metadata": {},
   "outputs": [
    {
     "data": {
      "text/html": [
       "<div>\n",
       "<style scoped>\n",
       "    .dataframe tbody tr th:only-of-type {\n",
       "        vertical-align: middle;\n",
       "    }\n",
       "\n",
       "    .dataframe tbody tr th {\n",
       "        vertical-align: top;\n",
       "    }\n",
       "\n",
       "    .dataframe thead th {\n",
       "        text-align: right;\n",
       "    }\n",
       "</style>\n",
       "<table border=\"1\" class=\"dataframe\">\n",
       "  <thead>\n",
       "    <tr style=\"text-align: right;\">\n",
       "      <th></th>\n",
       "      <th>ID</th>\n",
       "      <th>Date</th>\n",
       "      <th>POINTEUSE</th>\n",
       "    </tr>\n",
       "  </thead>\n",
       "  <tbody>\n",
       "    <tr>\n",
       "      <th>0</th>\n",
       "      <td>1</td>\n",
       "      <td>01/10/2019</td>\n",
       "      <td>REPUBLIQUE-1</td>\n",
       "    </tr>\n",
       "    <tr>\n",
       "      <th>1</th>\n",
       "      <td>1</td>\n",
       "      <td>02/10/2019</td>\n",
       "      <td>REPUBLIQUE-1</td>\n",
       "    </tr>\n",
       "    <tr>\n",
       "      <th>2</th>\n",
       "      <td>1</td>\n",
       "      <td>03/10/2019</td>\n",
       "      <td>REPUBLIQUE-1</td>\n",
       "    </tr>\n",
       "    <tr>\n",
       "      <th>3</th>\n",
       "      <td>1</td>\n",
       "      <td>04/10/2019</td>\n",
       "      <td>REPUBLIQUE-1</td>\n",
       "    </tr>\n",
       "    <tr>\n",
       "      <th>4</th>\n",
       "      <td>1</td>\n",
       "      <td>07/10/2019</td>\n",
       "      <td>REPUBLIQUE-1</td>\n",
       "    </tr>\n",
       "    <tr>\n",
       "      <th>...</th>\n",
       "      <td>...</td>\n",
       "      <td>...</td>\n",
       "      <td>...</td>\n",
       "    </tr>\n",
       "    <tr>\n",
       "      <th>24566</th>\n",
       "      <td>1426</td>\n",
       "      <td>21/10/2019</td>\n",
       "      <td>SIEGE SBS-1</td>\n",
       "    </tr>\n",
       "    <tr>\n",
       "      <th>24567</th>\n",
       "      <td>1426</td>\n",
       "      <td>22/10/2019</td>\n",
       "      <td>SIEGE SBS-1</td>\n",
       "    </tr>\n",
       "    <tr>\n",
       "      <th>24568</th>\n",
       "      <td>1426</td>\n",
       "      <td>28/10/2019</td>\n",
       "      <td>SIEGE SBS-1</td>\n",
       "    </tr>\n",
       "    <tr>\n",
       "      <th>24569</th>\n",
       "      <td>1426</td>\n",
       "      <td>29/10/2019</td>\n",
       "      <td>SIEGE SBS-1</td>\n",
       "    </tr>\n",
       "    <tr>\n",
       "      <th>24570</th>\n",
       "      <td>1426</td>\n",
       "      <td>31/10/2019</td>\n",
       "      <td>SIEGE SBS-1</td>\n",
       "    </tr>\n",
       "  </tbody>\n",
       "</table>\n",
       "<p>24571 rows × 3 columns</p>\n",
       "</div>"
      ],
      "text/plain": [
       "         ID        Date     POINTEUSE\n",
       "0         1  01/10/2019  REPUBLIQUE-1\n",
       "1         1  02/10/2019  REPUBLIQUE-1\n",
       "2         1  03/10/2019  REPUBLIQUE-1\n",
       "3         1  04/10/2019  REPUBLIQUE-1\n",
       "4         1  07/10/2019  REPUBLIQUE-1\n",
       "...     ...         ...           ...\n",
       "24566  1426  21/10/2019   SIEGE SBS-1\n",
       "24567  1426  22/10/2019   SIEGE SBS-1\n",
       "24568  1426  28/10/2019   SIEGE SBS-1\n",
       "24569  1426  29/10/2019   SIEGE SBS-1\n",
       "24570  1426  31/10/2019   SIEGE SBS-1\n",
       "\n",
       "[24571 rows x 3 columns]"
      ]
     },
     "execution_count": 8,
     "metadata": {},
     "output_type": "execute_result"
    }
   ],
   "source": [
    "octoberFile"
   ]
  },
  {
   "cell_type": "code",
   "execution_count": 9,
   "metadata": {},
   "outputs": [
    {
     "data": {
      "text/html": [
       "<div>\n",
       "<style scoped>\n",
       "    .dataframe tbody tr th:only-of-type {\n",
       "        vertical-align: middle;\n",
       "    }\n",
       "\n",
       "    .dataframe tbody tr th {\n",
       "        vertical-align: top;\n",
       "    }\n",
       "\n",
       "    .dataframe thead th {\n",
       "        text-align: right;\n",
       "    }\n",
       "</style>\n",
       "<table border=\"1\" class=\"dataframe\">\n",
       "  <thead>\n",
       "    <tr style=\"text-align: right;\">\n",
       "      <th></th>\n",
       "      <th>ID</th>\n",
       "      <th>Date</th>\n",
       "      <th>POINTEUSE</th>\n",
       "    </tr>\n",
       "  </thead>\n",
       "  <tbody>\n",
       "    <tr>\n",
       "      <th>0</th>\n",
       "      <td>1</td>\n",
       "      <td>08/11/2019</td>\n",
       "      <td>REPUBLIQUE-1</td>\n",
       "    </tr>\n",
       "    <tr>\n",
       "      <th>1</th>\n",
       "      <td>1</td>\n",
       "      <td>28/11/2019</td>\n",
       "      <td>REPUBLIQUE-1</td>\n",
       "    </tr>\n",
       "    <tr>\n",
       "      <th>2</th>\n",
       "      <td>1</td>\n",
       "      <td>18/11/2019</td>\n",
       "      <td>REPUBLIQUE-1</td>\n",
       "    </tr>\n",
       "    <tr>\n",
       "      <th>3</th>\n",
       "      <td>1</td>\n",
       "      <td>26/11/2019</td>\n",
       "      <td>REPUBLIQUE-1</td>\n",
       "    </tr>\n",
       "    <tr>\n",
       "      <th>4</th>\n",
       "      <td>1</td>\n",
       "      <td>22/11/2019</td>\n",
       "      <td>REPUBLIQUE-1</td>\n",
       "    </tr>\n",
       "    <tr>\n",
       "      <th>...</th>\n",
       "      <td>...</td>\n",
       "      <td>...</td>\n",
       "      <td>...</td>\n",
       "    </tr>\n",
       "    <tr>\n",
       "      <th>22816</th>\n",
       "      <td>1426</td>\n",
       "      <td>13/11/2019</td>\n",
       "      <td>SIEGE SBS-1</td>\n",
       "    </tr>\n",
       "    <tr>\n",
       "      <th>22817</th>\n",
       "      <td>1426</td>\n",
       "      <td>07/11/2019</td>\n",
       "      <td>SIEGE SBS-1</td>\n",
       "    </tr>\n",
       "    <tr>\n",
       "      <th>22818</th>\n",
       "      <td>1426</td>\n",
       "      <td>12/11/2019</td>\n",
       "      <td>SIEGE SBS-1</td>\n",
       "    </tr>\n",
       "    <tr>\n",
       "      <th>22819</th>\n",
       "      <td>1426</td>\n",
       "      <td>18/11/2019</td>\n",
       "      <td>SIEGE SBS-1</td>\n",
       "    </tr>\n",
       "    <tr>\n",
       "      <th>22820</th>\n",
       "      <td>1426</td>\n",
       "      <td>08/11/2019</td>\n",
       "      <td>SIEGE SBS-1</td>\n",
       "    </tr>\n",
       "  </tbody>\n",
       "</table>\n",
       "<p>22821 rows × 3 columns</p>\n",
       "</div>"
      ],
      "text/plain": [
       "         ID        Date     POINTEUSE\n",
       "0         1  08/11/2019  REPUBLIQUE-1\n",
       "1         1  28/11/2019  REPUBLIQUE-1\n",
       "2         1  18/11/2019  REPUBLIQUE-1\n",
       "3         1  26/11/2019  REPUBLIQUE-1\n",
       "4         1  22/11/2019  REPUBLIQUE-1\n",
       "...     ...         ...           ...\n",
       "22816  1426  13/11/2019   SIEGE SBS-1\n",
       "22817  1426  07/11/2019   SIEGE SBS-1\n",
       "22818  1426  12/11/2019   SIEGE SBS-1\n",
       "22819  1426  18/11/2019   SIEGE SBS-1\n",
       "22820  1426  08/11/2019   SIEGE SBS-1\n",
       "\n",
       "[22821 rows x 3 columns]"
      ]
     },
     "execution_count": 9,
     "metadata": {},
     "output_type": "execute_result"
    }
   ],
   "source": [
    "novemberFile"
   ]
  },
  {
   "cell_type": "code",
   "execution_count": 10,
   "metadata": {},
   "outputs": [],
   "source": [
    "# Suppression des lignes manquantes\n",
    "delRows(octoberFile)\n",
    "delRows(novemberFile)"
   ]
  },
  {
   "cell_type": "code",
   "execution_count": 11,
   "metadata": {},
   "outputs": [
    {
     "name": "stdout",
     "output_type": "stream",
     "text": [
      "ID :0\n",
      "Date :0\n",
      "POINTEUSE :0\n"
     ]
    }
   ],
   "source": [
    "numberNaN(octoberFile)"
   ]
  },
  {
   "cell_type": "code",
   "execution_count": 12,
   "metadata": {},
   "outputs": [
    {
     "name": "stdout",
     "output_type": "stream",
     "text": [
      "ID :0\n",
      "Date :0\n",
      "POINTEUSE :0\n"
     ]
    }
   ],
   "source": [
    "numberNaN(novemberFile)"
   ]
  },
  {
   "cell_type": "code",
   "execution_count": 13,
   "metadata": {},
   "outputs": [],
   "source": [
    "# Fusionner les 2 fichiers\n",
    "fileOctNov = pd.concat([octoberFile, novemberFile])"
   ]
  },
  {
   "cell_type": "code",
   "execution_count": 14,
   "metadata": {},
   "outputs": [
    {
     "data": {
      "text/html": [
       "<div>\n",
       "<style scoped>\n",
       "    .dataframe tbody tr th:only-of-type {\n",
       "        vertical-align: middle;\n",
       "    }\n",
       "\n",
       "    .dataframe tbody tr th {\n",
       "        vertical-align: top;\n",
       "    }\n",
       "\n",
       "    .dataframe thead th {\n",
       "        text-align: right;\n",
       "    }\n",
       "</style>\n",
       "<table border=\"1\" class=\"dataframe\">\n",
       "  <thead>\n",
       "    <tr style=\"text-align: right;\">\n",
       "      <th></th>\n",
       "      <th>ID</th>\n",
       "      <th>Date</th>\n",
       "      <th>POINTEUSE</th>\n",
       "    </tr>\n",
       "  </thead>\n",
       "  <tbody>\n",
       "    <tr>\n",
       "      <th>0</th>\n",
       "      <td>1</td>\n",
       "      <td>01/10/2019</td>\n",
       "      <td>REPUBLIQUE-1</td>\n",
       "    </tr>\n",
       "    <tr>\n",
       "      <th>1</th>\n",
       "      <td>1</td>\n",
       "      <td>02/10/2019</td>\n",
       "      <td>REPUBLIQUE-1</td>\n",
       "    </tr>\n",
       "    <tr>\n",
       "      <th>2</th>\n",
       "      <td>1</td>\n",
       "      <td>03/10/2019</td>\n",
       "      <td>REPUBLIQUE-1</td>\n",
       "    </tr>\n",
       "    <tr>\n",
       "      <th>3</th>\n",
       "      <td>1</td>\n",
       "      <td>04/10/2019</td>\n",
       "      <td>REPUBLIQUE-1</td>\n",
       "    </tr>\n",
       "    <tr>\n",
       "      <th>4</th>\n",
       "      <td>1</td>\n",
       "      <td>07/10/2019</td>\n",
       "      <td>REPUBLIQUE-1</td>\n",
       "    </tr>\n",
       "    <tr>\n",
       "      <th>...</th>\n",
       "      <td>...</td>\n",
       "      <td>...</td>\n",
       "      <td>...</td>\n",
       "    </tr>\n",
       "    <tr>\n",
       "      <th>22816</th>\n",
       "      <td>1426</td>\n",
       "      <td>13/11/2019</td>\n",
       "      <td>SIEGE SBS-1</td>\n",
       "    </tr>\n",
       "    <tr>\n",
       "      <th>22817</th>\n",
       "      <td>1426</td>\n",
       "      <td>07/11/2019</td>\n",
       "      <td>SIEGE SBS-1</td>\n",
       "    </tr>\n",
       "    <tr>\n",
       "      <th>22818</th>\n",
       "      <td>1426</td>\n",
       "      <td>12/11/2019</td>\n",
       "      <td>SIEGE SBS-1</td>\n",
       "    </tr>\n",
       "    <tr>\n",
       "      <th>22819</th>\n",
       "      <td>1426</td>\n",
       "      <td>18/11/2019</td>\n",
       "      <td>SIEGE SBS-1</td>\n",
       "    </tr>\n",
       "    <tr>\n",
       "      <th>22820</th>\n",
       "      <td>1426</td>\n",
       "      <td>08/11/2019</td>\n",
       "      <td>SIEGE SBS-1</td>\n",
       "    </tr>\n",
       "  </tbody>\n",
       "</table>\n",
       "<p>47392 rows × 3 columns</p>\n",
       "</div>"
      ],
      "text/plain": [
       "         ID        Date     POINTEUSE\n",
       "0         1  01/10/2019  REPUBLIQUE-1\n",
       "1         1  02/10/2019  REPUBLIQUE-1\n",
       "2         1  03/10/2019  REPUBLIQUE-1\n",
       "3         1  04/10/2019  REPUBLIQUE-1\n",
       "4         1  07/10/2019  REPUBLIQUE-1\n",
       "...     ...         ...           ...\n",
       "22816  1426  13/11/2019   SIEGE SBS-1\n",
       "22817  1426  07/11/2019   SIEGE SBS-1\n",
       "22818  1426  12/11/2019   SIEGE SBS-1\n",
       "22819  1426  18/11/2019   SIEGE SBS-1\n",
       "22820  1426  08/11/2019   SIEGE SBS-1\n",
       "\n",
       "[47392 rows x 3 columns]"
      ]
     },
     "execution_count": 14,
     "metadata": {},
     "output_type": "execute_result"
    }
   ],
   "source": [
    "fileOctNov"
   ]
  },
  {
   "cell_type": "code",
   "execution_count": 17,
   "metadata": {},
   "outputs": [],
   "source": [
    "# Récupération des informations des users\n",
    "idUsers = list(set(fileOctNov.ID))\n",
    "listePointeuses = list(set(fileOctNov.POINTEUSE))"
   ]
  },
  {
   "cell_type": "code",
   "execution_count": 18,
   "metadata": {},
   "outputs": [],
   "source": [
    "# Fonction permettant de faire un random sur les pointeuses\n",
    "import random\n",
    "import copy\n",
    "\n",
    "def RandomPointeuses(data):\n",
    "    idUsers = list(set(data.ID))\n",
    "    pointeuses = list(set(data.POINTEUSE))\n",
    "    \n",
    "    for i in idUsers:\n",
    "        newPointeuses = pointeuses.copy()\n",
    "        dataUser = data[data[\"ID\"] == i]\n",
    "        pointeusesUser = list(set(dataUser[\"POINTEUSE\"]))\n",
    "        \n",
    "        for j in pointeusesUser:\n",
    "            newPointeuses.remove(j)\n",
    "        \n",
    "        #Faire un random sur les autres pointeuses différentes des pointeuses du user\n",
    "        indexUser = dataUser.index\n",
    "        nbRandom = int(len(dataUser) / 2)\n",
    "        \n",
    "        for m in range(0, nbRandom + 1):\n",
    "            data[\"POINTEUSE\"][indexUser[random.randrange(0, len(indexUser))]] = newPointeuses[random.randrange(0, len(newPointeuses))]"
   ]
  },
  {
   "cell_type": "code",
   "execution_count": 19,
   "metadata": {},
   "outputs": [
    {
     "name": "stderr",
     "output_type": "stream",
     "text": [
      "/home/diop/.local/lib/python3.7/site-packages/ipykernel_launcher.py:22: SettingWithCopyWarning: \n",
      "A value is trying to be set on a copy of a slice from a DataFrame\n",
      "\n",
      "See the caveats in the documentation: http://pandas.pydata.org/pandas-docs/stable/user_guide/indexing.html#returning-a-view-versus-a-copy\n"
     ]
    }
   ],
   "source": [
    "# Random sur les données des 2 mois\n",
    "RandomPointeuses(fileOctNov)"
   ]
  },
  {
   "cell_type": "code",
   "execution_count": 20,
   "metadata": {},
   "outputs": [
    {
     "data": {
      "text/html": [
       "<div>\n",
       "<style scoped>\n",
       "    .dataframe tbody tr th:only-of-type {\n",
       "        vertical-align: middle;\n",
       "    }\n",
       "\n",
       "    .dataframe tbody tr th {\n",
       "        vertical-align: top;\n",
       "    }\n",
       "\n",
       "    .dataframe thead th {\n",
       "        text-align: right;\n",
       "    }\n",
       "</style>\n",
       "<table border=\"1\" class=\"dataframe\">\n",
       "  <thead>\n",
       "    <tr style=\"text-align: right;\">\n",
       "      <th></th>\n",
       "      <th>ID</th>\n",
       "      <th>Date</th>\n",
       "      <th>POINTEUSE</th>\n",
       "    </tr>\n",
       "  </thead>\n",
       "  <tbody>\n",
       "    <tr>\n",
       "      <th>0</th>\n",
       "      <td>1</td>\n",
       "      <td>01/10/2019</td>\n",
       "      <td>SALLE SPORT-1</td>\n",
       "    </tr>\n",
       "    <tr>\n",
       "      <th>1</th>\n",
       "      <td>1</td>\n",
       "      <td>02/10/2019</td>\n",
       "      <td>REPUBLIQUE-1</td>\n",
       "    </tr>\n",
       "    <tr>\n",
       "      <th>2</th>\n",
       "      <td>1</td>\n",
       "      <td>03/10/2019</td>\n",
       "      <td>SIEGE 7E B-1</td>\n",
       "    </tr>\n",
       "    <tr>\n",
       "      <th>3</th>\n",
       "      <td>1</td>\n",
       "      <td>04/10/2019</td>\n",
       "      <td>MEDINA - 1-1</td>\n",
       "    </tr>\n",
       "    <tr>\n",
       "      <th>4</th>\n",
       "      <td>1</td>\n",
       "      <td>07/10/2019</td>\n",
       "      <td>REPUBLIQUE-1</td>\n",
       "    </tr>\n",
       "    <tr>\n",
       "      <th>...</th>\n",
       "      <td>...</td>\n",
       "      <td>...</td>\n",
       "      <td>...</td>\n",
       "    </tr>\n",
       "    <tr>\n",
       "      <th>22816</th>\n",
       "      <td>1426</td>\n",
       "      <td>13/11/2019</td>\n",
       "      <td>MEDINA - 1-1</td>\n",
       "    </tr>\n",
       "    <tr>\n",
       "      <th>22817</th>\n",
       "      <td>1426</td>\n",
       "      <td>07/11/2019</td>\n",
       "      <td>ALMADIES-1</td>\n",
       "    </tr>\n",
       "    <tr>\n",
       "      <th>22818</th>\n",
       "      <td>1426</td>\n",
       "      <td>12/11/2019</td>\n",
       "      <td>SIEGE SBS-1</td>\n",
       "    </tr>\n",
       "    <tr>\n",
       "      <th>22819</th>\n",
       "      <td>1426</td>\n",
       "      <td>18/11/2019</td>\n",
       "      <td>GUEDIAWAYE-1</td>\n",
       "    </tr>\n",
       "    <tr>\n",
       "      <th>22820</th>\n",
       "      <td>1426</td>\n",
       "      <td>08/11/2019</td>\n",
       "      <td>ARCADES-1</td>\n",
       "    </tr>\n",
       "  </tbody>\n",
       "</table>\n",
       "<p>47392 rows × 3 columns</p>\n",
       "</div>"
      ],
      "text/plain": [
       "         ID        Date      POINTEUSE\n",
       "0         1  01/10/2019  SALLE SPORT-1\n",
       "1         1  02/10/2019   REPUBLIQUE-1\n",
       "2         1  03/10/2019   SIEGE 7E B-1\n",
       "3         1  04/10/2019   MEDINA - 1-1\n",
       "4         1  07/10/2019   REPUBLIQUE-1\n",
       "...     ...         ...            ...\n",
       "22816  1426  13/11/2019   MEDINA - 1-1\n",
       "22817  1426  07/11/2019     ALMADIES-1\n",
       "22818  1426  12/11/2019    SIEGE SBS-1\n",
       "22819  1426  18/11/2019   GUEDIAWAYE-1\n",
       "22820  1426  08/11/2019      ARCADES-1\n",
       "\n",
       "[47392 rows x 3 columns]"
      ]
     },
     "execution_count": 20,
     "metadata": {},
     "output_type": "execute_result"
    }
   ],
   "source": [
    "fileOctNov"
   ]
  },
  {
   "cell_type": "code",
   "execution_count": 26,
   "metadata": {},
   "outputs": [
    {
     "data": {
      "text/plain": [
       "['SACRE COEUR LIB 5-1',\n",
       " 'SABLUX RDC-1',\n",
       " 'RUFISQUE AC-1',\n",
       " 'PATTE DOIE-1',\n",
       " 'SIEGE 4E B-1',\n",
       " 'CHEIKH ANTA DIOP-1',\n",
       " 'SIEGE RDC INFIRMERIE-1',\n",
       " 'GUEDIAWAYE-1',\n",
       " 'SALLE SPORT-1',\n",
       " 'SIEGE 7E B-1',\n",
       " 'MEDINA - 1-1',\n",
       " 'PARCELLES ASSAINIES-1',\n",
       " 'SIEGE OFMS-1',\n",
       " 'SIEGE SS1 A-1',\n",
       " 'ALMADIES-1',\n",
       " 'SIEGE RDC B-1',\n",
       " 'SIEGE SBS-1',\n",
       " 'SIEGE 5E B-1',\n",
       " 'NSIA 2eme ETAGE-1',\n",
       " 'JET DEAU-1',\n",
       " 'THIAROYE-1',\n",
       " 'REPUBLIQUE-1',\n",
       " 'POTOU-1',\n",
       " 'SIEGE SS2 A-1',\n",
       " 'WEST-TELECOM-1',\n",
       " 'SIEGE 3E B-1',\n",
       " 'POTOU-IPM-1',\n",
       " 'ARCADES-1',\n",
       " 'Poste de Garde-1',\n",
       " 'SIEGE RDC A-1',\n",
       " 'SIEGE SS1 B-1',\n",
       " 'TECHNOPOLE - RGT-1',\n",
       " 'SIEGE SS2 B-1',\n",
       " 'SIEGE 2E B-1']"
      ]
     },
     "execution_count": 26,
     "metadata": {},
     "output_type": "execute_result"
    }
   ],
   "source": [
    "# Changement des indexes de manière croissante\n",
    "fileOctNov.index = range(0, len(fileOctNov))\n",
    "\n",
    "#Suppression de certains sites\n",
    "deletePointeuses = [\"KAOLACK AC-1\", \"MBOUR-1\", \"SAINT LOUIS AC-1\", \"THIES AC-1\", \n",
    "                    \"TOUBA MBACKE-1\", \"ZIGUINCHOR TECH-1\", \"Ziguinchor Commercial-1\"]\n",
    "indiceLigne = []\n",
    "for i in range(0, len(fileOctNov)):\n",
    "    if fileOctNov[\"POINTEUSE\"][i] in deletePointeuses:\n",
    "        indiceLigne.append(i)\n",
    "fileOctNov.drop(indiceLigne, inplace=True)\n",
    "# Liste des pointeuses\n",
    "list(set(fileOctNov.POINTEUSE))"
   ]
  },
  {
   "cell_type": "code",
   "execution_count": 32,
   "metadata": {},
   "outputs": [
    {
     "name": "stderr",
     "output_type": "stream",
     "text": [
      "/home/diop/.local/lib/python3.7/site-packages/ipykernel_launcher.py:8: SettingWithCopyWarning: \n",
      "A value is trying to be set on a copy of a slice from a DataFrame\n",
      "\n",
      "See the caveats in the documentation: http://pandas.pydata.org/pandas-docs/stable/user_guide/indexing.html#returning-a-view-versus-a-copy\n",
      "  \n",
      "/home/diop/.local/lib/python3.7/site-packages/ipykernel_launcher.py:10: SettingWithCopyWarning: \n",
      "A value is trying to be set on a copy of a slice from a DataFrame\n",
      "\n",
      "See the caveats in the documentation: http://pandas.pydata.org/pandas-docs/stable/user_guide/indexing.html#returning-a-view-versus-a-copy\n",
      "  # Remove the CWD from sys.path while we load stuff.\n",
      "/home/diop/.local/lib/python3.7/site-packages/ipykernel_launcher.py:11: SettingWithCopyWarning: \n",
      "A value is trying to be set on a copy of a slice from a DataFrame\n",
      "\n",
      "See the caveats in the documentation: http://pandas.pydata.org/pandas-docs/stable/user_guide/indexing.html#returning-a-view-versus-a-copy\n",
      "  # This is added back by InteractiveShellApp.init_path()\n",
      "/home/diop/.local/lib/python3.7/site-packages/ipykernel_launcher.py:12: SettingWithCopyWarning: \n",
      "A value is trying to be set on a copy of a slice from a DataFrame\n",
      "\n",
      "See the caveats in the documentation: http://pandas.pydata.org/pandas-docs/stable/user_guide/indexing.html#returning-a-view-versus-a-copy\n",
      "  if sys.path[0] == '':\n",
      "/home/diop/.local/lib/python3.7/site-packages/ipykernel_launcher.py:13: SettingWithCopyWarning: \n",
      "A value is trying to be set on a copy of a slice from a DataFrame\n",
      "\n",
      "See the caveats in the documentation: http://pandas.pydata.org/pandas-docs/stable/user_guide/indexing.html#returning-a-view-versus-a-copy\n",
      "  del sys.path[0]\n",
      "/home/diop/.local/lib/python3.7/site-packages/ipykernel_launcher.py:14: SettingWithCopyWarning: \n",
      "A value is trying to be set on a copy of a slice from a DataFrame\n",
      "\n",
      "See the caveats in the documentation: http://pandas.pydata.org/pandas-docs/stable/user_guide/indexing.html#returning-a-view-versus-a-copy\n",
      "  \n",
      "/home/diop/.local/lib/python3.7/site-packages/ipykernel_launcher.py:15: SettingWithCopyWarning: \n",
      "A value is trying to be set on a copy of a slice from a DataFrame\n",
      "\n",
      "See the caveats in the documentation: http://pandas.pydata.org/pandas-docs/stable/user_guide/indexing.html#returning-a-view-versus-a-copy\n",
      "  from ipykernel import kernelapp as app\n",
      "/home/diop/.local/lib/python3.7/site-packages/ipykernel_launcher.py:16: SettingWithCopyWarning: \n",
      "A value is trying to be set on a copy of a slice from a DataFrame\n",
      "\n",
      "See the caveats in the documentation: http://pandas.pydata.org/pandas-docs/stable/user_guide/indexing.html#returning-a-view-versus-a-copy\n",
      "  app.launch_new_instance()\n",
      "/home/diop/.local/lib/python3.7/site-packages/ipykernel_launcher.py:17: SettingWithCopyWarning: \n",
      "A value is trying to be set on a copy of a slice from a DataFrame\n",
      "\n",
      "See the caveats in the documentation: http://pandas.pydata.org/pandas-docs/stable/user_guide/indexing.html#returning-a-view-versus-a-copy\n",
      "/home/diop/.local/lib/python3.7/site-packages/ipykernel_launcher.py:18: SettingWithCopyWarning: \n",
      "A value is trying to be set on a copy of a slice from a DataFrame\n",
      "\n",
      "See the caveats in the documentation: http://pandas.pydata.org/pandas-docs/stable/user_guide/indexing.html#returning-a-view-versus-a-copy\n",
      "/home/diop/.local/lib/python3.7/site-packages/ipykernel_launcher.py:19: SettingWithCopyWarning: \n",
      "A value is trying to be set on a copy of a slice from a DataFrame\n",
      "\n",
      "See the caveats in the documentation: http://pandas.pydata.org/pandas-docs/stable/user_guide/indexing.html#returning-a-view-versus-a-copy\n",
      "/home/diop/.local/lib/python3.7/site-packages/ipykernel_launcher.py:20: SettingWithCopyWarning: \n",
      "A value is trying to be set on a copy of a slice from a DataFrame\n",
      "\n",
      "See the caveats in the documentation: http://pandas.pydata.org/pandas-docs/stable/user_guide/indexing.html#returning-a-view-versus-a-copy\n",
      "/home/diop/.local/lib/python3.7/site-packages/ipykernel_launcher.py:21: SettingWithCopyWarning: \n",
      "A value is trying to be set on a copy of a slice from a DataFrame\n",
      "\n",
      "See the caveats in the documentation: http://pandas.pydata.org/pandas-docs/stable/user_guide/indexing.html#returning-a-view-versus-a-copy\n",
      "/home/diop/.local/lib/python3.7/site-packages/ipykernel_launcher.py:22: SettingWithCopyWarning: \n",
      "A value is trying to be set on a copy of a slice from a DataFrame\n",
      "\n",
      "See the caveats in the documentation: http://pandas.pydata.org/pandas-docs/stable/user_guide/indexing.html#returning-a-view-versus-a-copy\n",
      "/home/diop/.local/lib/python3.7/site-packages/ipykernel_launcher.py:23: SettingWithCopyWarning: \n",
      "A value is trying to be set on a copy of a slice from a DataFrame\n",
      "\n",
      "See the caveats in the documentation: http://pandas.pydata.org/pandas-docs/stable/user_guide/indexing.html#returning-a-view-versus-a-copy\n",
      "/home/diop/.local/lib/python3.7/site-packages/ipykernel_launcher.py:24: SettingWithCopyWarning: \n",
      "A value is trying to be set on a copy of a slice from a DataFrame\n",
      "\n",
      "See the caveats in the documentation: http://pandas.pydata.org/pandas-docs/stable/user_guide/indexing.html#returning-a-view-versus-a-copy\n",
      "/home/diop/.local/lib/python3.7/site-packages/ipykernel_launcher.py:25: SettingWithCopyWarning: \n",
      "A value is trying to be set on a copy of a slice from a DataFrame\n",
      "\n",
      "See the caveats in the documentation: http://pandas.pydata.org/pandas-docs/stable/user_guide/indexing.html#returning-a-view-versus-a-copy\n",
      "/home/diop/.local/lib/python3.7/site-packages/ipykernel_launcher.py:26: SettingWithCopyWarning: \n",
      "A value is trying to be set on a copy of a slice from a DataFrame\n",
      "\n",
      "See the caveats in the documentation: http://pandas.pydata.org/pandas-docs/stable/user_guide/indexing.html#returning-a-view-versus-a-copy\n",
      "/home/diop/.local/lib/python3.7/site-packages/ipykernel_launcher.py:27: SettingWithCopyWarning: \n",
      "A value is trying to be set on a copy of a slice from a DataFrame\n",
      "\n",
      "See the caveats in the documentation: http://pandas.pydata.org/pandas-docs/stable/user_guide/indexing.html#returning-a-view-versus-a-copy\n",
      "/home/diop/.local/lib/python3.7/site-packages/ipykernel_launcher.py:28: SettingWithCopyWarning: \n",
      "A value is trying to be set on a copy of a slice from a DataFrame\n",
      "\n",
      "See the caveats in the documentation: http://pandas.pydata.org/pandas-docs/stable/user_guide/indexing.html#returning-a-view-versus-a-copy\n",
      "/home/diop/.local/lib/python3.7/site-packages/ipykernel_launcher.py:29: SettingWithCopyWarning: \n",
      "A value is trying to be set on a copy of a slice from a DataFrame\n",
      "\n",
      "See the caveats in the documentation: http://pandas.pydata.org/pandas-docs/stable/user_guide/indexing.html#returning-a-view-versus-a-copy\n"
     ]
    }
   ],
   "source": [
    "# Aggrégation des sites\n",
    "fileOctNov[\"POINTEUSE\"][(fileOctNov[\"POINTEUSE\"] == 'SIEGE OFMS-1') | (fileOctNov[\"POINTEUSE\"] == 'SIEGE RDC A-1') | \\\n",
    "     (fileOctNov[\"POINTEUSE\"] == 'SIEGE RDC INFIRMERIE-1') | (fileOctNov[\"POINTEUSE\"] == 'SIEGE 5E B-1') | \\\n",
    "     (fileOctNov[\"POINTEUSE\"] == 'SIEGE SS1 B-1') | (fileOctNov[\"POINTEUSE\"] == 'SIEGE SS2 A-1') | \\\n",
    "     (fileOctNov[\"POINTEUSE\"] == 'SIEGE SS1 A-1') | (fileOctNov[\"POINTEUSE\"] == 'SIEGE 7E B-1') | \\\n",
    "     (fileOctNov[\"POINTEUSE\"] == 'SIEGE 3E B-1') | (fileOctNov[\"POINTEUSE\"] == 'SIEGE RDC B-1') | \\\n",
    "     (fileOctNov[\"POINTEUSE\"] == 'SIEGE SBS-1') | (fileOctNov[\"POINTEUSE\"] == 'SIEGE SS2 B-1') | \\\n",
    "     (fileOctNov[\"POINTEUSE\"] == 'SIEGE 2E B-1') | (fileOctNov[\"POINTEUSE\"] == 'SIEGE 4E B-1')] = 'SIEGE'\n",
    "\n",
    "fileOctNov[\"POINTEUSE\"][(fileOctNov[\"POINTEUSE\"] == 'SACRE COEUR LIB 5-1')] = 'SACRE COEUR'\n",
    "fileOctNov[\"POINTEUSE\"][(fileOctNov[\"POINTEUSE\"] == 'SABLUX RDC-1')] = 'SABLUX RDC'\n",
    "fileOctNov[\"POINTEUSE\"][(fileOctNov[\"POINTEUSE\"] == 'RUFISQUE AC-1')] = 'RUFISQUE'\n",
    "fileOctNov[\"POINTEUSE\"][(fileOctNov[\"POINTEUSE\"] == 'PATTE DOIE-1')] = 'PATTE DOIE'\n",
    "fileOctNov[\"POINTEUSE\"][(fileOctNov[\"POINTEUSE\"] == 'CHEIKH ANTA DIOP-1')] = 'CHEIKH ANTA DIOP'\n",
    "fileOctNov[\"POINTEUSE\"][(fileOctNov[\"POINTEUSE\"] == 'GUEDIAWAYE-1')] = 'GUEDIAWAYE'\n",
    "fileOctNov[\"POINTEUSE\"][(fileOctNov[\"POINTEUSE\"] == 'SALLE SPORT-1')] = 'SALLE SPORT'\n",
    "fileOctNov[\"POINTEUSE\"][(fileOctNov[\"POINTEUSE\"] == 'MEDINA - 1-1')] = 'MEDINA'\n",
    "fileOctNov[\"POINTEUSE\"][(fileOctNov[\"POINTEUSE\"] == 'PARCELLES ASSAINIES-1')] = 'PARCELLES ASSAINIES'\n",
    "fileOctNov[\"POINTEUSE\"][(fileOctNov[\"POINTEUSE\"] == 'ALMADIES-1')] = 'ALMADIES'\n",
    "fileOctNov[\"POINTEUSE\"][(fileOctNov[\"POINTEUSE\"] == 'NSIA 2eme ETAGE-1')] = 'NSIA 2eme ETAGE'\n",
    "fileOctNov[\"POINTEUSE\"][(fileOctNov[\"POINTEUSE\"] == 'JET DEAU-1')] = 'JET DEAU'\n",
    "fileOctNov[\"POINTEUSE\"][(fileOctNov[\"POINTEUSE\"] == 'THIAROYE-1')] = 'THIAROYE'\n",
    "fileOctNov[\"POINTEUSE\"][(fileOctNov[\"POINTEUSE\"] == 'REPUBLIQUE-1')] = 'REPUBLIQUE'\n",
    "fileOctNov[\"POINTEUSE\"][(fileOctNov[\"POINTEUSE\"] == 'POTOU-1')] = 'POTOU'\n",
    "fileOctNov[\"POINTEUSE\"][(fileOctNov[\"POINTEUSE\"] == 'WEST-TELECOM-1')] = 'WEST-TELECOM'\n",
    "fileOctNov[\"POINTEUSE\"][(fileOctNov[\"POINTEUSE\"] == 'POTOU-IPM-1')] = 'POTOU-IPM'\n",
    "fileOctNov[\"POINTEUSE\"][(fileOctNov[\"POINTEUSE\"] == 'ARCADES-1')] = 'ARCADES'\n",
    "fileOctNov[\"POINTEUSE\"][(fileOctNov[\"POINTEUSE\"] == 'Poste de Garde-1')] = 'Poste de Garde'\n",
    "fileOctNov[\"POINTEUSE\"][(fileOctNov[\"POINTEUSE\"] == 'TECHNOPOLE - RGT-1')] = 'TECHNOPOLE - RGT'"
   ]
  },
  {
   "cell_type": "code",
   "execution_count": 33,
   "metadata": {},
   "outputs": [
    {
     "data": {
      "text/plain": [
       "['SABLUX RDC',\n",
       " 'POTOU-IPM',\n",
       " 'NSIA 2eme ETAGE',\n",
       " 'JET DEAU',\n",
       " 'RUFISQUE',\n",
       " 'SALLE SPORT',\n",
       " 'REPUBLIQUE',\n",
       " 'Poste de Garde',\n",
       " 'PATTE DOIE',\n",
       " 'THIAROYE',\n",
       " 'ARCADES',\n",
       " 'PARCELLES ASSAINIES',\n",
       " 'MEDINA',\n",
       " 'SACRE COEUR',\n",
       " 'POTOU',\n",
       " 'WEST-TELECOM',\n",
       " 'SIEGE',\n",
       " 'TECHNOPOLE - RGT',\n",
       " 'CHEIKH ANTA DIOP',\n",
       " 'ALMADIES',\n",
       " 'GUEDIAWAYE']"
      ]
     },
     "execution_count": 33,
     "metadata": {},
     "output_type": "execute_result"
    }
   ],
   "source": [
    "# Liste des pointeuses\n",
    "list(set(fileOctNov.POINTEUSE))"
   ]
  },
  {
   "cell_type": "code",
   "execution_count": 35,
   "metadata": {},
   "outputs": [],
   "source": [
    "# Remplacer chaque pointeuse par un index\n",
    "def replacePointeuseByIndex(data):\n",
    "    sites = list(set(data[\"POINTEUSE\"]))\n",
    "    representationSite = []\n",
    "    for i in range(0, len(sites)):\n",
    "        representationSite.append({\"index\" : \"{}\".format(i), \"short\" : \"{}\".format(sites[i]), \"desc\" : \"{}\".format(sites[i])})\n",
    "    representationSite.append({\"index\" : \"{}\".format(len(sites)), \"short\": \"Other\", \"desc\": \"Other\"})\n",
    "    \n",
    "    # Ecriture dans un fichier\n",
    "    with open(\"sites.txt\", \"w\") as f:\n",
    "        f.write(str(representationSite))\n",
    "    #Remplacement au niveau du dataset\n",
    "    for m in sites:\n",
    "        for n in representationSite:\n",
    "            if(m in list(n.values())):\n",
    "                data[\"POINTEUSE\"][data[\"POINTEUSE\"] == m] = list(n.values())[0]"
   ]
  },
  {
   "cell_type": "code",
   "execution_count": 36,
   "metadata": {},
   "outputs": [
    {
     "name": "stderr",
     "output_type": "stream",
     "text": [
      "/home/diop/.local/lib/python3.7/site-packages/ipykernel_launcher.py:16: SettingWithCopyWarning: \n",
      "A value is trying to be set on a copy of a slice from a DataFrame\n",
      "\n",
      "See the caveats in the documentation: http://pandas.pydata.org/pandas-docs/stable/user_guide/indexing.html#returning-a-view-versus-a-copy\n",
      "  app.launch_new_instance()\n"
     ]
    }
   ],
   "source": [
    "replacePointeuseByIndex(fileOctNov)"
   ]
  },
  {
   "cell_type": "code",
   "execution_count": 37,
   "metadata": {},
   "outputs": [
    {
     "data": {
      "text/html": [
       "<div>\n",
       "<style scoped>\n",
       "    .dataframe tbody tr th:only-of-type {\n",
       "        vertical-align: middle;\n",
       "    }\n",
       "\n",
       "    .dataframe tbody tr th {\n",
       "        vertical-align: top;\n",
       "    }\n",
       "\n",
       "    .dataframe thead th {\n",
       "        text-align: right;\n",
       "    }\n",
       "</style>\n",
       "<table border=\"1\" class=\"dataframe\">\n",
       "  <thead>\n",
       "    <tr style=\"text-align: right;\">\n",
       "      <th></th>\n",
       "      <th>ID</th>\n",
       "      <th>Date</th>\n",
       "      <th>POINTEUSE</th>\n",
       "    </tr>\n",
       "  </thead>\n",
       "  <tbody>\n",
       "    <tr>\n",
       "      <th>0</th>\n",
       "      <td>1</td>\n",
       "      <td>01/10/2019</td>\n",
       "      <td>5</td>\n",
       "    </tr>\n",
       "    <tr>\n",
       "      <th>1</th>\n",
       "      <td>1</td>\n",
       "      <td>02/10/2019</td>\n",
       "      <td>6</td>\n",
       "    </tr>\n",
       "    <tr>\n",
       "      <th>2</th>\n",
       "      <td>1</td>\n",
       "      <td>03/10/2019</td>\n",
       "      <td>16</td>\n",
       "    </tr>\n",
       "    <tr>\n",
       "      <th>3</th>\n",
       "      <td>1</td>\n",
       "      <td>04/10/2019</td>\n",
       "      <td>12</td>\n",
       "    </tr>\n",
       "    <tr>\n",
       "      <th>4</th>\n",
       "      <td>1</td>\n",
       "      <td>07/10/2019</td>\n",
       "      <td>6</td>\n",
       "    </tr>\n",
       "    <tr>\n",
       "      <th>...</th>\n",
       "      <td>...</td>\n",
       "      <td>...</td>\n",
       "      <td>...</td>\n",
       "    </tr>\n",
       "    <tr>\n",
       "      <th>47387</th>\n",
       "      <td>1426</td>\n",
       "      <td>13/11/2019</td>\n",
       "      <td>12</td>\n",
       "    </tr>\n",
       "    <tr>\n",
       "      <th>47388</th>\n",
       "      <td>1426</td>\n",
       "      <td>07/11/2019</td>\n",
       "      <td>19</td>\n",
       "    </tr>\n",
       "    <tr>\n",
       "      <th>47389</th>\n",
       "      <td>1426</td>\n",
       "      <td>12/11/2019</td>\n",
       "      <td>16</td>\n",
       "    </tr>\n",
       "    <tr>\n",
       "      <th>47390</th>\n",
       "      <td>1426</td>\n",
       "      <td>18/11/2019</td>\n",
       "      <td>20</td>\n",
       "    </tr>\n",
       "    <tr>\n",
       "      <th>47391</th>\n",
       "      <td>1426</td>\n",
       "      <td>08/11/2019</td>\n",
       "      <td>10</td>\n",
       "    </tr>\n",
       "  </tbody>\n",
       "</table>\n",
       "<p>41451 rows × 3 columns</p>\n",
       "</div>"
      ],
      "text/plain": [
       "         ID        Date POINTEUSE\n",
       "0         1  01/10/2019         5\n",
       "1         1  02/10/2019         6\n",
       "2         1  03/10/2019        16\n",
       "3         1  04/10/2019        12\n",
       "4         1  07/10/2019         6\n",
       "...     ...         ...       ...\n",
       "47387  1426  13/11/2019        12\n",
       "47388  1426  07/11/2019        19\n",
       "47389  1426  12/11/2019        16\n",
       "47390  1426  18/11/2019        20\n",
       "47391  1426  08/11/2019        10\n",
       "\n",
       "[41451 rows x 3 columns]"
      ]
     },
     "execution_count": 37,
     "metadata": {},
     "output_type": "execute_result"
    }
   ],
   "source": [
    "fileOctNov"
   ]
  },
  {
   "cell_type": "code",
   "execution_count": 38,
   "metadata": {},
   "outputs": [],
   "source": [
    "# Enregistrement du fichier\n",
    "fileOctNov.to_csv(\"fileOctNov.csv\", sep=\",\")"
   ]
  },
  {
   "cell_type": "markdown",
   "metadata": {},
   "source": [
    "# Ecrire au niveau du fichier TSV"
   ]
  },
  {
   "cell_type": "code",
   "execution_count": 1,
   "metadata": {},
   "outputs": [],
   "source": [
    "import pandas as pd\n",
    "fileOctNov = pd.read_csv(\"fileOctNov.csv\")\n",
    "dates = list(set(fileOctNov.Date))\n",
    "# Trier les dates par ordre croissant\n",
    "from datetime import datetime \n",
    "dates = sorted(dates, key=lambda x: datetime.strptime(x, \"%d/%m/%Y\"))\n",
    "# dates"
   ]
  },
  {
   "cell_type": "code",
   "execution_count": 56,
   "metadata": {},
   "outputs": [],
   "source": [
    "# Création du fichier TSV\n",
    "with open('file.tsv', 'wt') as out_file:\n",
    "        tsv_writer = csv.writer(out_file, delimiter='\\t')\n",
    "        tsv_writer.writerow(['day'])"
   ]
  },
  {
   "cell_type": "code",
   "execution_count": 86,
   "metadata": {},
   "outputs": [],
   "source": [
    "# Info du user\n",
    "for j in list(set(fileOctNov[\"ID\"])):\n",
    "    user = fileOctNov[fileOctNov[\"ID\"] == j]\n",
    "    user.index = range(0, len(user))\n",
    "    datesUser = list(set(user.Date))\n",
    "    ligne = \"\"\n",
    "    positionOther = len(list(set(fileOctNov.POINTEUSE)))\n",
    "    for i in range(0, len(dates)):\n",
    "        try:\n",
    "            if (dates[i] in datesUser):\n",
    "                ligne = ligne + \"{},7,\".format(str(user[\"POINTEUSE\"][i])) # 7 secondes\n",
    "            else:\n",
    "                ligne = ligne + \"{},7,\".format(str(positionOther)) # 7 secondes\n",
    "        except:\n",
    "            ligne = ligne + \"{},7,\".format(str(positionOther)) # 7 secondes\n",
    "    #         continue\n",
    "    ligne = ligne[0:len(ligne)-1]  # Permet de supprimer la dernière virgule\n",
    "    # Écrire la ligne au niveau du fichier\n",
    "    with open('file.tsv', 'a') as out_file:\n",
    "        tsv_writer = csv.writer(out_file, delimiter='\\t')\n",
    "        tsv_writer.writerow([ligne])"
   ]
  },
  {
   "cell_type": "code",
   "execution_count": 2,
   "metadata": {},
   "outputs": [
    {
     "data": {
      "text/plain": [
       "1462"
      ]
     },
     "execution_count": 2,
     "metadata": {},
     "output_type": "execute_result"
    }
   ],
   "source": [
    "len(list(set(fileOctNov.ID)))"
   ]
  },
  {
   "cell_type": "code",
   "execution_count": 90,
   "metadata": {},
   "outputs": [
    {
     "data": {
      "text/plain": [
       "61"
      ]
     },
     "execution_count": 90,
     "metadata": {},
     "output_type": "execute_result"
    }
   ],
   "source": [
    "len(dates)"
   ]
  },
  {
   "cell_type": "code",
   "execution_count": 3,
   "metadata": {},
   "outputs": [
    {
     "data": {
      "text/plain": [
       "\"['01/10/2019', '02/10/2019', '03/10/2019', '04/10/2019', '05/10/2019', '06/10/2019', '07/10/2019', '08/10/2019', '09/10/2019', '10/10/2019', '11/10/2019', '12/10/2019', '13/10/2019', '14/10/2019', '15/10/2019', '16/10/2019', '17/10/2019', '18/10/2019', '19/10/2019', '20/10/2019', '21/10/2019', '22/10/2019', '23/10/2019', '24/10/2019', '25/10/2019', '26/10/2019', '27/10/2019', '28/10/2019', '29/10/2019', '30/10/2019', '31/10/2019', '01/11/2019', '02/11/2019', '03/11/2019', '04/11/2019', '05/11/2019', '06/11/2019', '07/11/2019', '08/11/2019', '09/11/2019', '10/11/2019', '11/11/2019', '12/11/2019', '13/11/2019', '14/11/2019', '15/11/2019', '16/11/2019', '17/11/2019', '18/11/2019', '19/11/2019', '20/11/2019', '21/11/2019', '22/11/2019', '23/11/2019', '24/11/2019', '25/11/2019', '26/11/2019', '27/11/2019', '28/11/2019', '29/11/2019', '30/11/2019']\""
      ]
     },
     "execution_count": 3,
     "metadata": {},
     "output_type": "execute_result"
    }
   ],
   "source": [
    "str(dates)"
   ]
  },
  {
   "cell_type": "code",
   "execution_count": 5,
   "metadata": {},
   "outputs": [],
   "source": [
    "# Écriture des dates au niveau du fichier\n",
    "with open(\"dates.txt\", \"w\") as f:\n",
    "    f.write(str(dates))"
   ]
  },
  {
   "cell_type": "code",
   "execution_count": null,
   "metadata": {},
   "outputs": [],
   "source": []
  }
 ],
 "metadata": {
  "kernelspec": {
   "display_name": "Python 3",
   "language": "python",
   "name": "python3"
  },
  "language_info": {
   "codemirror_mode": {
    "name": "ipython",
    "version": 3
   },
   "file_extension": ".py",
   "mimetype": "text/x-python",
   "name": "python",
   "nbconvert_exporter": "python",
   "pygments_lexer": "ipython3",
   "version": "3.7.3"
  }
 },
 "nbformat": 4,
 "nbformat_minor": 2
}
